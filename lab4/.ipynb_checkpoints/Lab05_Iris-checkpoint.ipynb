{
 "cells": [
  {
   "cell_type": "code",
   "execution_count": 45,
   "metadata": {
    "id": "LbcKqhxJEGJQ"
   },
   "outputs": [],
   "source": [
    "# 21522211 - Phạm Duy Khánh - IS252.O22"
   ]
  },
  {
   "cell_type": "code",
   "execution_count": 9,
   "metadata": {
    "id": "JvecGSyz6W6s"
   },
   "outputs": [],
   "source": [
    "import numpy as np"
   ]
  },
  {
   "cell_type": "code",
   "execution_count": 3,
   "metadata": {
    "colab": {
     "base_uri": "https://localhost:8080/"
    },
    "id": "7tEnUavW6YbU",
    "outputId": "0b1c101d-2693-456a-c452-f6d0bd6e1f35"
   },
   "outputs": [
    {
     "name": "stdout",
     "output_type": "stream",
     "text": [
      ".. _iris_dataset:\n",
      "\n",
      "Iris plants dataset\n",
      "--------------------\n",
      "\n",
      "**Data Set Characteristics:**\n",
      "\n",
      "    :Number of Instances: 150 (50 in each of three classes)\n",
      "    :Number of Attributes: 4 numeric, predictive attributes and the class\n",
      "    :Attribute Information:\n",
      "        - sepal length in cm\n",
      "        - sepal width in cm\n",
      "        - petal length in cm\n",
      "        - petal width in cm\n",
      "        - class:\n",
      "                - Iris-Setosa\n",
      "                - Iris-Versicolour\n",
      "                - Iris-Virginica\n",
      "                \n",
      "    :Summary Statistics:\n",
      "\n",
      "    ============== ==== ==== ======= ===== ====================\n",
      "                    Min  Max   Mean    SD   Class Correlation\n",
      "    ============== ==== ==== ======= ===== ====================\n",
      "    sepal length:   4.3  7.9   5.84   0.83    0.7826\n",
      "    sepal width:    2.0  4.4   3.05   0.43   -0.4194\n",
      "    petal length:   1.0  6.9   3.76   1.76    0.9490  (high!)\n",
      "    petal width:    0.1  2.5   1.20   0.76    0.9565  (high!)\n",
      "    ============== ==== ==== ======= ===== ====================\n",
      "\n",
      "    :Missing Attribute Values: None\n",
      "    :Class Distribution: 33.3% for each of 3 classes.\n",
      "    :Creator: R.A. Fisher\n",
      "    :Donor: Michael Marshall (MARSHALL%PLU@io.arc.nasa.gov)\n",
      "    :Date: July, 1988\n",
      "\n",
      "The famous Iris database, first used by Sir R.A. Fisher. The dataset is taken\n",
      "from Fisher's paper. Note that it's the same as in R, but not as in the UCI\n",
      "Machine Learning Repository, which has two wrong data points.\n",
      "\n",
      "This is perhaps the best known database to be found in the\n",
      "pattern recognition literature.  Fisher's paper is a classic in the field and\n",
      "is referenced frequently to this day.  (See Duda & Hart, for example.)  The\n",
      "data set contains 3 classes of 50 instances each, where each class refers to a\n",
      "type of iris plant.  One class is linearly separable from the other 2; the\n",
      "latter are NOT linearly separable from each other.\n",
      "\n",
      ".. topic:: References\n",
      "\n",
      "   - Fisher, R.A. \"The use of multiple measurements in taxonomic problems\"\n",
      "     Annual Eugenics, 7, Part II, 179-188 (1936); also in \"Contributions to\n",
      "     Mathematical Statistics\" (John Wiley, NY, 1950).\n",
      "   - Duda, R.O., & Hart, P.E. (1973) Pattern Classification and Scene Analysis.\n",
      "     (Q327.D83) John Wiley & Sons.  ISBN 0-471-22361-1.  See page 218.\n",
      "   - Dasarathy, B.V. (1980) \"Nosing Around the Neighborhood: A New System\n",
      "     Structure and Classification Rule for Recognition in Partially Exposed\n",
      "     Environments\".  IEEE Transactions on Pattern Analysis and Machine\n",
      "     Intelligence, Vol. PAMI-2, No. 1, 67-71.\n",
      "   - Gates, G.W. (1972) \"The Reduced Nearest Neighbor Rule\".  IEEE Transactions\n",
      "     on Information Theory, May 1972, 431-433.\n",
      "   - See also: 1988 MLC Proceedings, 54-64.  Cheeseman et al\"s AUTOCLASS II\n",
      "     conceptual clustering system finds 3 classes in the data.\n",
      "   - Many, many more ...\n"
     ]
    }
   ],
   "source": [
    "from sklearn.datasets import load_iris\n",
    "\n",
    "iris = load_iris()\n",
    "\n",
    "# Xem thông tin về bộ dữ liệu\n",
    "print(iris.DESCR)"
   ]
  },
  {
   "cell_type": "markdown",
   "metadata": {
    "id": "qv15UnS97mO5"
   },
   "source": [
    "**Khảo\tsát\tbộ\tdữ\tliệu\tIris:**"
   ]
  },
  {
   "cell_type": "code",
   "execution_count": 4,
   "metadata": {
    "colab": {
     "base_uri": "https://localhost:8080/"
    },
    "id": "6Wr6xKYt6Yd9",
    "outputId": "af23f610-f4d0-4041-80e3-cc98d0f91775"
   },
   "outputs": [
    {
     "name": "stdout",
     "output_type": "stream",
     "text": [
      "Tên các thuộc tính:\n",
      "['sepal length (cm)', 'sepal width (cm)', 'petal length (cm)', 'petal width (cm)']\n",
      "Tên thuộc tính phân lớp:\n",
      "['setosa' 'versicolor' 'virginica']\n"
     ]
    }
   ],
   "source": [
    "# In ra tên các thuộc tính\n",
    "print(\"Tên các thuộc tính:\")\n",
    "print(iris.feature_names)\n",
    "\n",
    "# In ra tên thuộc tính phân lớp\n",
    "print(\"Tên thuộc tính phân lớp:\")\n",
    "print(iris.target_names)"
   ]
  },
  {
   "cell_type": "code",
   "execution_count": 5,
   "metadata": {
    "colab": {
     "base_uri": "https://localhost:8080/"
    },
    "id": "6m_uhJV36Ygj",
    "outputId": "c19a6189-c3e0-4223-d61b-bc2838452bf6"
   },
   "outputs": [
    {
     "name": "stdout",
     "output_type": "stream",
     "text": [
      "Số lượng mẫu:\n",
      "150\n",
      "Số lượng thuộc tính:\n",
      "4\n"
     ]
    }
   ],
   "source": [
    "# In ra số lượng mẫu\n",
    "print(\"Số lượng mẫu:\")\n",
    "print(iris.data.shape[0])\n",
    "\n",
    "# In ra số lượng thuộc tính\n",
    "print(\"Số lượng thuộc tính:\")\n",
    "print(iris.data.shape[1])"
   ]
  },
  {
   "cell_type": "code",
   "execution_count": 6,
   "metadata": {
    "colab": {
     "base_uri": "https://localhost:8080/"
    },
    "id": "rJRQxGQy6YjD",
    "outputId": "85f39ee3-0f3c-43d8-e30e-3d8c4983dc52"
   },
   "outputs": [
    {
     "name": "stdout",
     "output_type": "stream",
     "text": [
      "5 mẫu dữ liệu đầu tiên:\n",
      "[[5.1 3.5 1.4 0.2]\n",
      " [4.9 3.  1.4 0.2]\n",
      " [4.7 3.2 1.3 0.2]\n",
      " [4.6 3.1 1.5 0.2]\n",
      " [5.  3.6 1.4 0.2]]\n"
     ]
    }
   ],
   "source": [
    "# In ra 5 mẫu dữ liệu đầu tiên\n",
    "print(\"5 mẫu dữ liệu đầu tiên:\")\n",
    "print(iris.data[:5])"
   ]
  },
  {
   "cell_type": "code",
   "execution_count": 30,
   "metadata": {
    "colab": {
     "base_uri": "https://localhost:8080/",
     "height": 300
    },
    "id": "Qu7IJWQv6Ylb",
    "outputId": "4f934220-25dd-4090-993c-fed49f0d06bf"
   },
   "outputs": [
    {
     "data": {
      "application/vnd.google.colaboratory.intrinsic+json": {
       "summary": "{\n  \"name\": \"df\",\n  \"rows\": 8,\n  \"fields\": [\n    {\n      \"column\": \"sepal length (cm)\",\n      \"properties\": {\n        \"dtype\": \"number\",\n        \"std\": 51.24711349471842,\n        \"min\": 0.828066127977863,\n        \"max\": 150.0,\n        \"num_unique_values\": 8,\n        \"samples\": [\n          5.843333333333334,\n          5.8,\n          150.0\n        ],\n        \"semantic_type\": \"\",\n        \"description\": \"\"\n      }\n    },\n    {\n      \"column\": \"sepal width (cm)\",\n      \"properties\": {\n        \"dtype\": \"number\",\n        \"std\": 52.08617800869865,\n        \"min\": 0.4358662849366982,\n        \"max\": 150.0,\n        \"num_unique_values\": 8,\n        \"samples\": [\n          3.0573333333333337,\n          3.0,\n          150.0\n        ],\n        \"semantic_type\": \"\",\n        \"description\": \"\"\n      }\n    },\n    {\n      \"column\": \"petal length (cm)\",\n      \"properties\": {\n        \"dtype\": \"number\",\n        \"std\": 51.83521261418364,\n        \"min\": 1.0,\n        \"max\": 150.0,\n        \"num_unique_values\": 8,\n        \"samples\": [\n          3.7580000000000005,\n          4.35,\n          150.0\n        ],\n        \"semantic_type\": \"\",\n        \"description\": \"\"\n      }\n    },\n    {\n      \"column\": \"petal width (cm)\",\n      \"properties\": {\n        \"dtype\": \"number\",\n        \"std\": 52.63664824261751,\n        \"min\": 0.1,\n        \"max\": 150.0,\n        \"num_unique_values\": 8,\n        \"samples\": [\n          1.1993333333333336,\n          1.3,\n          150.0\n        ],\n        \"semantic_type\": \"\",\n        \"description\": \"\"\n      }\n    },\n    {\n      \"column\": \"target\",\n      \"properties\": {\n        \"dtype\": \"number\",\n        \"std\": 52.69404575122032,\n        \"min\": 0.0,\n        \"max\": 150.0,\n        \"num_unique_values\": 5,\n        \"samples\": [\n          1.0,\n          2.0,\n          0.8192319205190405\n        ],\n        \"semantic_type\": \"\",\n        \"description\": \"\"\n      }\n    }\n  ]\n}",
       "type": "dataframe"
      },
      "text/html": [
       "\n",
       "  <div id=\"df-54711ad9-92ab-4fbd-bf6c-657955cf482e\" class=\"colab-df-container\">\n",
       "    <div>\n",
       "<style scoped>\n",
       "    .dataframe tbody tr th:only-of-type {\n",
       "        vertical-align: middle;\n",
       "    }\n",
       "\n",
       "    .dataframe tbody tr th {\n",
       "        vertical-align: top;\n",
       "    }\n",
       "\n",
       "    .dataframe thead th {\n",
       "        text-align: right;\n",
       "    }\n",
       "</style>\n",
       "<table border=\"1\" class=\"dataframe\">\n",
       "  <thead>\n",
       "    <tr style=\"text-align: right;\">\n",
       "      <th></th>\n",
       "      <th>sepal length (cm)</th>\n",
       "      <th>sepal width (cm)</th>\n",
       "      <th>petal length (cm)</th>\n",
       "      <th>petal width (cm)</th>\n",
       "      <th>target</th>\n",
       "    </tr>\n",
       "  </thead>\n",
       "  <tbody>\n",
       "    <tr>\n",
       "      <th>count</th>\n",
       "      <td>150.000000</td>\n",
       "      <td>150.000000</td>\n",
       "      <td>150.000000</td>\n",
       "      <td>150.000000</td>\n",
       "      <td>150.000000</td>\n",
       "    </tr>\n",
       "    <tr>\n",
       "      <th>mean</th>\n",
       "      <td>5.843333</td>\n",
       "      <td>3.057333</td>\n",
       "      <td>3.758000</td>\n",
       "      <td>1.199333</td>\n",
       "      <td>1.000000</td>\n",
       "    </tr>\n",
       "    <tr>\n",
       "      <th>std</th>\n",
       "      <td>0.828066</td>\n",
       "      <td>0.435866</td>\n",
       "      <td>1.765298</td>\n",
       "      <td>0.762238</td>\n",
       "      <td>0.819232</td>\n",
       "    </tr>\n",
       "    <tr>\n",
       "      <th>min</th>\n",
       "      <td>4.300000</td>\n",
       "      <td>2.000000</td>\n",
       "      <td>1.000000</td>\n",
       "      <td>0.100000</td>\n",
       "      <td>0.000000</td>\n",
       "    </tr>\n",
       "    <tr>\n",
       "      <th>25%</th>\n",
       "      <td>5.100000</td>\n",
       "      <td>2.800000</td>\n",
       "      <td>1.600000</td>\n",
       "      <td>0.300000</td>\n",
       "      <td>0.000000</td>\n",
       "    </tr>\n",
       "    <tr>\n",
       "      <th>50%</th>\n",
       "      <td>5.800000</td>\n",
       "      <td>3.000000</td>\n",
       "      <td>4.350000</td>\n",
       "      <td>1.300000</td>\n",
       "      <td>1.000000</td>\n",
       "    </tr>\n",
       "    <tr>\n",
       "      <th>75%</th>\n",
       "      <td>6.400000</td>\n",
       "      <td>3.300000</td>\n",
       "      <td>5.100000</td>\n",
       "      <td>1.800000</td>\n",
       "      <td>2.000000</td>\n",
       "    </tr>\n",
       "    <tr>\n",
       "      <th>max</th>\n",
       "      <td>7.900000</td>\n",
       "      <td>4.400000</td>\n",
       "      <td>6.900000</td>\n",
       "      <td>2.500000</td>\n",
       "      <td>2.000000</td>\n",
       "    </tr>\n",
       "  </tbody>\n",
       "</table>\n",
       "</div>\n",
       "    <div class=\"colab-df-buttons\">\n",
       "\n",
       "  <div class=\"colab-df-container\">\n",
       "    <button class=\"colab-df-convert\" onclick=\"convertToInteractive('df-54711ad9-92ab-4fbd-bf6c-657955cf482e')\"\n",
       "            title=\"Convert this dataframe to an interactive table.\"\n",
       "            style=\"display:none;\">\n",
       "\n",
       "  <svg xmlns=\"http://www.w3.org/2000/svg\" height=\"24px\" viewBox=\"0 -960 960 960\">\n",
       "    <path d=\"M120-120v-720h720v720H120Zm60-500h600v-160H180v160Zm220 220h160v-160H400v160Zm0 220h160v-160H400v160ZM180-400h160v-160H180v160Zm440 0h160v-160H620v160ZM180-180h160v-160H180v160Zm440 0h160v-160H620v160Z\"/>\n",
       "  </svg>\n",
       "    </button>\n",
       "\n",
       "  <style>\n",
       "    .colab-df-container {\n",
       "      display:flex;\n",
       "      gap: 12px;\n",
       "    }\n",
       "\n",
       "    .colab-df-convert {\n",
       "      background-color: #E8F0FE;\n",
       "      border: none;\n",
       "      border-radius: 50%;\n",
       "      cursor: pointer;\n",
       "      display: none;\n",
       "      fill: #1967D2;\n",
       "      height: 32px;\n",
       "      padding: 0 0 0 0;\n",
       "      width: 32px;\n",
       "    }\n",
       "\n",
       "    .colab-df-convert:hover {\n",
       "      background-color: #E2EBFA;\n",
       "      box-shadow: 0px 1px 2px rgba(60, 64, 67, 0.3), 0px 1px 3px 1px rgba(60, 64, 67, 0.15);\n",
       "      fill: #174EA6;\n",
       "    }\n",
       "\n",
       "    .colab-df-buttons div {\n",
       "      margin-bottom: 4px;\n",
       "    }\n",
       "\n",
       "    [theme=dark] .colab-df-convert {\n",
       "      background-color: #3B4455;\n",
       "      fill: #D2E3FC;\n",
       "    }\n",
       "\n",
       "    [theme=dark] .colab-df-convert:hover {\n",
       "      background-color: #434B5C;\n",
       "      box-shadow: 0px 1px 3px 1px rgba(0, 0, 0, 0.15);\n",
       "      filter: drop-shadow(0px 1px 2px rgba(0, 0, 0, 0.3));\n",
       "      fill: #FFFFFF;\n",
       "    }\n",
       "  </style>\n",
       "\n",
       "    <script>\n",
       "      const buttonEl =\n",
       "        document.querySelector('#df-54711ad9-92ab-4fbd-bf6c-657955cf482e button.colab-df-convert');\n",
       "      buttonEl.style.display =\n",
       "        google.colab.kernel.accessAllowed ? 'block' : 'none';\n",
       "\n",
       "      async function convertToInteractive(key) {\n",
       "        const element = document.querySelector('#df-54711ad9-92ab-4fbd-bf6c-657955cf482e');\n",
       "        const dataTable =\n",
       "          await google.colab.kernel.invokeFunction('convertToInteractive',\n",
       "                                                    [key], {});\n",
       "        if (!dataTable) return;\n",
       "\n",
       "        const docLinkHtml = 'Like what you see? Visit the ' +\n",
       "          '<a target=\"_blank\" href=https://colab.research.google.com/notebooks/data_table.ipynb>data table notebook</a>'\n",
       "          + ' to learn more about interactive tables.';\n",
       "        element.innerHTML = '';\n",
       "        dataTable['output_type'] = 'display_data';\n",
       "        await google.colab.output.renderOutput(dataTable, element);\n",
       "        const docLink = document.createElement('div');\n",
       "        docLink.innerHTML = docLinkHtml;\n",
       "        element.appendChild(docLink);\n",
       "      }\n",
       "    </script>\n",
       "  </div>\n",
       "\n",
       "\n",
       "<div id=\"df-be78c31a-f1f5-46e3-bdd9-f874ee16664c\">\n",
       "  <button class=\"colab-df-quickchart\" onclick=\"quickchart('df-be78c31a-f1f5-46e3-bdd9-f874ee16664c')\"\n",
       "            title=\"Suggest charts\"\n",
       "            style=\"display:none;\">\n",
       "\n",
       "<svg xmlns=\"http://www.w3.org/2000/svg\" height=\"24px\"viewBox=\"0 0 24 24\"\n",
       "     width=\"24px\">\n",
       "    <g>\n",
       "        <path d=\"M19 3H5c-1.1 0-2 .9-2 2v14c0 1.1.9 2 2 2h14c1.1 0 2-.9 2-2V5c0-1.1-.9-2-2-2zM9 17H7v-7h2v7zm4 0h-2V7h2v10zm4 0h-2v-4h2v4z\"/>\n",
       "    </g>\n",
       "</svg>\n",
       "  </button>\n",
       "\n",
       "<style>\n",
       "  .colab-df-quickchart {\n",
       "      --bg-color: #E8F0FE;\n",
       "      --fill-color: #1967D2;\n",
       "      --hover-bg-color: #E2EBFA;\n",
       "      --hover-fill-color: #174EA6;\n",
       "      --disabled-fill-color: #AAA;\n",
       "      --disabled-bg-color: #DDD;\n",
       "  }\n",
       "\n",
       "  [theme=dark] .colab-df-quickchart {\n",
       "      --bg-color: #3B4455;\n",
       "      --fill-color: #D2E3FC;\n",
       "      --hover-bg-color: #434B5C;\n",
       "      --hover-fill-color: #FFFFFF;\n",
       "      --disabled-bg-color: #3B4455;\n",
       "      --disabled-fill-color: #666;\n",
       "  }\n",
       "\n",
       "  .colab-df-quickchart {\n",
       "    background-color: var(--bg-color);\n",
       "    border: none;\n",
       "    border-radius: 50%;\n",
       "    cursor: pointer;\n",
       "    display: none;\n",
       "    fill: var(--fill-color);\n",
       "    height: 32px;\n",
       "    padding: 0;\n",
       "    width: 32px;\n",
       "  }\n",
       "\n",
       "  .colab-df-quickchart:hover {\n",
       "    background-color: var(--hover-bg-color);\n",
       "    box-shadow: 0 1px 2px rgba(60, 64, 67, 0.3), 0 1px 3px 1px rgba(60, 64, 67, 0.15);\n",
       "    fill: var(--button-hover-fill-color);\n",
       "  }\n",
       "\n",
       "  .colab-df-quickchart-complete:disabled,\n",
       "  .colab-df-quickchart-complete:disabled:hover {\n",
       "    background-color: var(--disabled-bg-color);\n",
       "    fill: var(--disabled-fill-color);\n",
       "    box-shadow: none;\n",
       "  }\n",
       "\n",
       "  .colab-df-spinner {\n",
       "    border: 2px solid var(--fill-color);\n",
       "    border-color: transparent;\n",
       "    border-bottom-color: var(--fill-color);\n",
       "    animation:\n",
       "      spin 1s steps(1) infinite;\n",
       "  }\n",
       "\n",
       "  @keyframes spin {\n",
       "    0% {\n",
       "      border-color: transparent;\n",
       "      border-bottom-color: var(--fill-color);\n",
       "      border-left-color: var(--fill-color);\n",
       "    }\n",
       "    20% {\n",
       "      border-color: transparent;\n",
       "      border-left-color: var(--fill-color);\n",
       "      border-top-color: var(--fill-color);\n",
       "    }\n",
       "    30% {\n",
       "      border-color: transparent;\n",
       "      border-left-color: var(--fill-color);\n",
       "      border-top-color: var(--fill-color);\n",
       "      border-right-color: var(--fill-color);\n",
       "    }\n",
       "    40% {\n",
       "      border-color: transparent;\n",
       "      border-right-color: var(--fill-color);\n",
       "      border-top-color: var(--fill-color);\n",
       "    }\n",
       "    60% {\n",
       "      border-color: transparent;\n",
       "      border-right-color: var(--fill-color);\n",
       "    }\n",
       "    80% {\n",
       "      border-color: transparent;\n",
       "      border-right-color: var(--fill-color);\n",
       "      border-bottom-color: var(--fill-color);\n",
       "    }\n",
       "    90% {\n",
       "      border-color: transparent;\n",
       "      border-bottom-color: var(--fill-color);\n",
       "    }\n",
       "  }\n",
       "</style>\n",
       "\n",
       "  <script>\n",
       "    async function quickchart(key) {\n",
       "      const quickchartButtonEl =\n",
       "        document.querySelector('#' + key + ' button');\n",
       "      quickchartButtonEl.disabled = true;  // To prevent multiple clicks.\n",
       "      quickchartButtonEl.classList.add('colab-df-spinner');\n",
       "      try {\n",
       "        const charts = await google.colab.kernel.invokeFunction(\n",
       "            'suggestCharts', [key], {});\n",
       "      } catch (error) {\n",
       "        console.error('Error during call to suggestCharts:', error);\n",
       "      }\n",
       "      quickchartButtonEl.classList.remove('colab-df-spinner');\n",
       "      quickchartButtonEl.classList.add('colab-df-quickchart-complete');\n",
       "    }\n",
       "    (() => {\n",
       "      let quickchartButtonEl =\n",
       "        document.querySelector('#df-be78c31a-f1f5-46e3-bdd9-f874ee16664c button');\n",
       "      quickchartButtonEl.style.display =\n",
       "        google.colab.kernel.accessAllowed ? 'block' : 'none';\n",
       "    })();\n",
       "  </script>\n",
       "</div>\n",
       "\n",
       "    </div>\n",
       "  </div>\n"
      ],
      "text/plain": [
       "       sepal length (cm)  sepal width (cm)  petal length (cm)  \\\n",
       "count         150.000000        150.000000         150.000000   \n",
       "mean            5.843333          3.057333           3.758000   \n",
       "std             0.828066          0.435866           1.765298   \n",
       "min             4.300000          2.000000           1.000000   \n",
       "25%             5.100000          2.800000           1.600000   \n",
       "50%             5.800000          3.000000           4.350000   \n",
       "75%             6.400000          3.300000           5.100000   \n",
       "max             7.900000          4.400000           6.900000   \n",
       "\n",
       "       petal width (cm)      target  \n",
       "count        150.000000  150.000000  \n",
       "mean           1.199333    1.000000  \n",
       "std            0.762238    0.819232  \n",
       "min            0.100000    0.000000  \n",
       "25%            0.300000    0.000000  \n",
       "50%            1.300000    1.000000  \n",
       "75%            1.800000    2.000000  \n",
       "max            2.500000    2.000000  "
      ]
     },
     "execution_count": 30,
     "metadata": {},
     "output_type": "execute_result"
    }
   ],
   "source": [
    "import pandas as pd\n",
    "\n",
    "# Chuyển đổi dữ liệu sang DataFrame\n",
    "df = pd.DataFrame(iris.data, columns=iris.feature_names)\n",
    "df['target'] = iris.target\n",
    "\n",
    "# Thống kê mô tả\n",
    "df.describe()"
   ]
  },
  {
   "cell_type": "markdown",
   "metadata": {
    "id": "A03G8JKl7dU1"
   },
   "source": [
    "**Chuẩn\thóa\tdữ liệu data về\tđoạn\t[0,1]**"
   ]
  },
  {
   "cell_type": "code",
   "execution_count": 14,
   "metadata": {
    "colab": {
     "base_uri": "https://localhost:8080/"
    },
    "id": "fYodDXNS6YoD",
    "outputId": "c5d193f1-cdcb-4715-e939-f75bd160306e"
   },
   "outputs": [
    {
     "name": "stdout",
     "output_type": "stream",
     "text": [
      "Dữ liệu sau khi chuẩn hóa:\n",
      "[[0.64556962 0.79545455 0.20289855 0.08      ]\n",
      " [0.62025316 0.68181818 0.20289855 0.08      ]\n",
      " [0.59493671 0.72727273 0.1884058  0.08      ]\n",
      " [0.58227848 0.70454545 0.2173913  0.08      ]\n",
      " [0.63291139 0.81818182 0.20289855 0.08      ]]\n"
     ]
    }
   ],
   "source": [
    "from sklearn.datasets import load_iris\n",
    "import numpy as np\n",
    "\n",
    "# Load dữ liệu\n",
    "iris = load_iris()\n",
    "\n",
    "# Gán X là data và Y là target của bộ dữ liệu\n",
    "X = iris.data\n",
    "y = iris.target\n",
    "\n",
    "# Chuẩn hóa dữ liệu X\n",
    "X_scaled = X / X.max(axis=0)\n",
    "\n",
    "# In ra một số dữ liệu sau khi chuẩn hóa\n",
    "print(\"Dữ liệu sau khi chuẩn hóa:\")\n",
    "print(X_scaled[:5])  # In ra 5 dòng đầu tiên của dữ liệu sau khi chuẩn hóa\n"
   ]
  },
  {
   "cell_type": "markdown",
   "metadata": {
    "id": "Cw32XEts7150"
   },
   "source": [
    "**Chia\tdữ liệu\tthành\ttập\ttrain và\ttập\ttest\ttheo\ttỷ\tlệ\t8:2**"
   ]
  },
  {
   "cell_type": "code",
   "execution_count": 15,
   "metadata": {
    "colab": {
     "base_uri": "https://localhost:8080/"
    },
    "id": "pwnU2IxE6YrN",
    "outputId": "df1d12ac-cd36-4c07-cdc9-b2c83c7e480d"
   },
   "outputs": [
    {
     "name": "stdout",
     "output_type": "stream",
     "text": [
      "Kích thước của tập train: (120, 4)\n",
      "Kích thước của tập test: (30, 4)\n"
     ]
    }
   ],
   "source": [
    "from sklearn.model_selection import train_test_split\n",
    "\n",
    "# Chia dữ liệu thành tập train và tập test\n",
    "X_train, X_test, y_train, y_test = train_test_split(X_scaled, y, test_size=0.2, random_state=42)\n",
    "\n",
    "# In ra kích thước của từng tập dữ liệu\n",
    "print(\"Kích thước của tập train:\", X_train.shape)\n",
    "print(\"Kích thước của tập test:\", X_test.shape)\n"
   ]
  },
  {
   "cell_type": "code",
   "execution_count": 24,
   "metadata": {
    "colab": {
     "base_uri": "https://localhost:8080/"
    },
    "id": "IlyPjphv_Jqk",
    "outputId": "f72dfdeb-5107-4b15-f1b9-17d3ea29cc94"
   },
   "outputs": [
    {
     "name": "stdout",
     "output_type": "stream",
     "text": [
      "Tập train:\n",
      "Dữ liệu:\n",
      "[[0.58227848 0.81818182 0.14492754 0.08      ]\n",
      " [0.72151899 1.         0.2173913  0.16      ]\n",
      " [0.84810127 0.70454545 0.63768116 0.56      ]\n",
      " [0.60759494 0.77272727 0.23188406 0.08      ]\n",
      " [0.55696203 0.72727273 0.1884058  0.08      ]\n",
      " [0.79746835 0.56818182 0.72463768 0.76      ]\n",
      " [0.81012658 0.72727273 0.65217391 0.6       ]\n",
      " [0.65822785 0.79545455 0.2173913  0.08      ]\n",
      " [0.63291139 0.81818182 0.20289855 0.08      ]\n",
      " [0.65822785 0.93181818 0.2173913  0.04      ]\n",
      " [0.73417722 0.61363636 0.73913043 0.76      ]\n",
      " [0.75949367 0.77272727 0.65217391 0.64      ]\n",
      " [0.84810127 0.70454545 0.68115942 0.6       ]\n",
      " [0.6835443  0.88636364 0.1884058  0.16      ]\n",
      " [0.6835443  0.84090909 0.2173913  0.08      ]\n",
      " [0.69620253 0.54545455 0.53623188 0.4       ]\n",
      " [0.79746835 0.63636364 0.73913043 0.6       ]\n",
      " [0.81012658 0.70454545 0.79710145 0.72      ]\n",
      " [0.83544304 0.68181818 0.63768116 0.56      ]\n",
      " [0.91139241 0.81818182 0.88405797 1.        ]\n",
      " [0.72151899 0.65909091 0.60869565 0.52      ]\n",
      " [0.96202532 0.68181818 0.95652174 0.84      ]\n",
      " [0.70886076 0.68181818 0.65217391 0.6       ]\n",
      " [0.64556962 0.79545455 0.20289855 0.08      ]\n",
      " [0.97468354 0.63636364 0.97101449 0.8       ]\n",
      " [0.73417722 0.61363636 0.5942029  0.4       ]\n",
      " [0.65822785 0.77272727 0.20289855 0.08      ]\n",
      " [0.63291139 0.79545455 0.1884058  0.12      ]\n",
      " [0.64556962 0.86363636 0.27536232 0.16      ]\n",
      " [0.63291139 0.45454545 0.50724638 0.4       ]\n",
      " [0.79746835 0.61363636 0.71014493 0.72      ]\n",
      " [0.60759494 0.77272727 0.27536232 0.08      ]\n",
      " [0.63291139 0.68181818 0.23188406 0.08      ]\n",
      " [0.64556962 0.75       0.24637681 0.2       ]\n",
      " [0.70886076 0.61363636 0.60869565 0.52      ]\n",
      " [0.64556962 0.77272727 0.2173913  0.08      ]\n",
      " [0.72151899 0.68181818 0.60869565 0.48      ]\n",
      " [0.97468354 0.86363636 0.97101449 0.88      ]\n",
      " [0.58227848 0.72727273 0.20289855 0.08      ]\n",
      " [0.78481013 0.65909091 0.62318841 0.52      ]\n",
      " [0.72151899 0.56818182 0.72463768 0.8       ]\n",
      " [0.69620253 0.95454545 0.20289855 0.08      ]\n",
      " [0.75949367 0.68181818 0.69565217 0.72      ]\n",
      " [0.73417722 0.61363636 0.73913043 0.76      ]\n",
      " [0.75949367 0.5        0.57971014 0.4       ]\n",
      " [0.6835443  0.68181818 0.65217391 0.6       ]\n",
      " [0.78481013 0.77272727 0.7826087  0.92      ]\n",
      " [0.69620253 0.52272727 0.57971014 0.52      ]\n",
      " [0.6835443  0.88636364 0.24637681 0.16      ]\n",
      " [0.63291139 0.52272727 0.47826087 0.4       ]\n",
      " [0.81012658 0.61363636 0.76811594 0.76      ]\n",
      " [0.63291139 0.75       0.20289855 0.08      ]\n",
      " [0.63291139 0.72727273 0.17391304 0.08      ]\n",
      " [0.69620253 0.54545455 0.55072464 0.44      ]\n",
      " [0.84810127 0.68181818 0.72463768 0.68      ]\n",
      " [0.62025316 0.70454545 0.2173913  0.08      ]\n",
      " [0.73417722 0.63636364 0.73913043 0.96      ]\n",
      " [0.63291139 0.77272727 0.2173913  0.08      ]\n",
      " [0.63291139 0.79545455 0.23188406 0.24      ]\n",
      " [0.74683544 0.72727273 0.69565217 0.72      ]\n",
      " [0.64556962 0.56818182 0.43478261 0.44      ]\n",
      " [0.87341772 0.72727273 0.82608696 0.92      ]\n",
      " [0.75949367 0.61363636 0.73913043 0.64      ]\n",
      " [0.7721519  0.59090909 0.8115942  0.56      ]\n",
      " [0.97468354 0.68181818 0.88405797 0.92      ]\n",
      " [0.69620253 0.56818182 0.57971014 0.52      ]\n",
      " [0.55696203 0.65909091 0.20289855 0.08      ]\n",
      " [0.5443038  0.68181818 0.15942029 0.04      ]\n",
      " [0.75949367 0.5        0.72463768 0.6       ]\n",
      " [0.91139241 0.72727273 0.86956522 0.72      ]\n",
      " [0.58227848 0.70454545 0.2173913  0.08      ]\n",
      " [0.64556962 0.79545455 0.20289855 0.12      ]\n",
      " [0.55696203 0.68181818 0.1884058  0.08      ]\n",
      " [0.79746835 0.56818182 0.71014493 0.6       ]\n",
      " [0.79746835 0.77272727 0.8115942  0.96      ]\n",
      " [0.58227848 0.77272727 0.20289855 0.12      ]\n",
      " [0.86075949 0.68181818 0.79710145 0.84      ]\n",
      " [0.79746835 0.75       0.86956522 1.        ]\n",
      " [0.59493671 0.72727273 0.1884058  0.08      ]\n",
      " [0.7721519  0.65909091 0.68115942 0.56      ]\n",
      " [0.82278481 0.63636364 0.66666667 0.6       ]\n",
      " [0.78481013 0.63636364 0.69565217 0.72      ]\n",
      " [0.88607595 0.72727273 0.68115942 0.56      ]\n",
      " [0.81012658 0.72727273 0.76811594 0.92      ]\n",
      " [0.64556962 0.86363636 0.23188406 0.08      ]\n",
      " [0.87341772 0.70454545 0.7826087  0.84      ]\n",
      " [0.74683544 0.68181818 0.60869565 0.6       ]\n",
      " [0.82278481 0.68181818 0.75362319 0.8       ]\n",
      " [0.72151899 0.59090909 0.50724638 0.4       ]\n",
      " [0.65822785 0.61363636 0.56521739 0.56      ]\n",
      " [0.7721519  0.68181818 0.66666667 0.56      ]\n",
      " [0.56962025 0.52272727 0.1884058  0.12      ]\n",
      " [0.83544304 0.65909091 0.66666667 0.52      ]\n",
      " [0.69620253 0.59090909 0.63768116 0.48      ]\n",
      " [0.67088608 0.84090909 0.2173913  0.08      ]\n",
      " [0.70886076 0.68181818 0.5942029  0.52      ]\n",
      " [0.92405063 0.65909091 0.91304348 0.72      ]\n",
      " [0.84810127 0.75       0.82608696 0.84      ]\n",
      " [0.64556962 0.84090909 0.2173913  0.16      ]\n",
      " [0.62025316 0.54545455 0.47826087 0.4       ]\n",
      " [0.84810127 0.75       0.82608696 1.        ]\n",
      " [0.91139241 0.68181818 0.84057971 0.64      ]\n",
      " [0.62025316 0.81818182 0.20289855 0.04      ]\n",
      " [0.84810127 0.70454545 0.8115942  0.96      ]\n",
      " [0.62025316 0.68181818 0.20289855 0.08      ]\n",
      " [0.87341772 0.70454545 0.71014493 0.6       ]\n",
      " [0.93670886 0.63636364 0.88405797 0.76      ]\n",
      " [0.79746835 0.65909091 0.8115942  0.72      ]\n",
      " [0.72151899 0.63636364 0.5942029  0.52      ]\n",
      " [0.82278481 0.68181818 0.79710145 0.72      ]\n",
      " [0.79746835 0.52272727 0.63768116 0.52      ]\n",
      " [0.81012658 0.65909091 0.62318841 0.52      ]\n",
      " [0.70886076 0.63636364 0.71014493 0.8       ]\n",
      " [0.74683544 0.68181818 0.73913043 0.72      ]\n",
      " [0.6835443  0.77272727 0.24637681 0.08      ]\n",
      " [0.7721519  0.63636364 0.57971014 0.52      ]\n",
      " [0.62025316 0.56818182 0.65217391 0.68      ]\n",
      " [0.73417722 0.90909091 0.17391304 0.08      ]\n",
      " [0.73417722 0.59090909 0.57971014 0.48      ]\n",
      " [0.89873418 0.68181818 0.85507246 0.84      ]]\n",
      "Nhãn:\n",
      "[0 0 1 0 0 2 1 0 0 0 2 1 1 0 0 1 2 2 1 2 1 2 1 0 2 1 0 0 0 1 2 0 0 0 1 0 1\n",
      " 2 0 1 2 0 2 2 1 1 2 1 0 1 2 0 0 1 1 0 2 0 0 1 1 2 1 2 2 1 0 0 2 2 0 0 0 1\n",
      " 2 0 2 2 0 1 1 2 1 2 0 2 1 2 1 1 1 0 1 1 0 1 2 2 0 1 2 2 0 2 0 1 2 2 1 2 1\n",
      " 1 2 2 0 1 2 0 1 2]\n",
      "\n",
      "Tập test:\n",
      "Dữ liệu:\n",
      "[[0.7721519  0.63636364 0.68115942 0.48      ]\n",
      " [0.72151899 0.86363636 0.24637681 0.12      ]\n",
      " [0.97468354 0.59090909 1.         0.92      ]\n",
      " [0.75949367 0.65909091 0.65217391 0.6       ]\n",
      " [0.86075949 0.63636364 0.69565217 0.56      ]\n",
      " [0.6835443  0.77272727 0.2173913  0.16      ]\n",
      " [0.70886076 0.65909091 0.52173913 0.52      ]\n",
      " [0.87341772 0.70454545 0.73913043 0.92      ]\n",
      " [0.78481013 0.5        0.65217391 0.6       ]\n",
      " [0.73417722 0.61363636 0.56521739 0.48      ]\n",
      " [0.82278481 0.72727273 0.73913043 0.8       ]\n",
      " [0.60759494 0.68181818 0.20289855 0.04      ]\n",
      " [0.69620253 0.79545455 0.1884058  0.08      ]\n",
      " [0.62025316 0.70454545 0.2173913  0.04      ]\n",
      " [0.64556962 0.86363636 0.2173913  0.12      ]\n",
      " [0.79746835 0.75       0.68115942 0.64      ]\n",
      " [0.82278481 0.68181818 0.84057971 0.88      ]\n",
      " [0.70886076 0.56818182 0.56521739 0.44      ]\n",
      " [0.72151899 0.63636364 0.65217391 0.52      ]\n",
      " [0.81012658 0.63636364 0.8115942  0.88      ]\n",
      " [0.59493671 0.72727273 0.23188406 0.08      ]\n",
      " [0.7721519  0.68181818 0.71014493 0.72      ]\n",
      " [0.63291139 0.77272727 0.23188406 0.16      ]\n",
      " [0.81012658 0.63636364 0.8115942  0.84      ]\n",
      " [1.         0.86363636 0.92753623 0.8       ]\n",
      " [0.84810127 0.68181818 0.75362319 0.92      ]\n",
      " [0.84810127 0.56818182 0.84057971 0.72      ]\n",
      " [0.86075949 0.72727273 0.85507246 0.92      ]\n",
      " [0.60759494 0.68181818 0.20289855 0.12      ]\n",
      " [0.60759494 0.70454545 0.23188406 0.08      ]]\n",
      "Nhãn:\n",
      "[1 0 2 1 1 0 1 2 1 1 2 0 0 0 0 1 2 1 1 2 0 2 0 2 2 2 2 2 0 0]\n"
     ]
    }
   ],
   "source": [
    "print(\"Tập train:\")\n",
    "print(\"Dữ liệu:\")\n",
    "print(X_train)\n",
    "print(\"Nhãn:\")\n",
    "print(y_train)\n",
    "\n",
    "print(\"\\nTập test:\")\n",
    "print(\"Dữ liệu:\")\n",
    "print(X_test)\n",
    "print(\"Nhãn:\")\n",
    "print(y_test)"
   ]
  },
  {
   "cell_type": "markdown",
   "metadata": {
    "id": "bkk8xC6z9wOz"
   },
   "source": [
    "**Sử\tdụng\tCây\tquyết\tđịnh\tđể\tphân\tlớp**\n",
    "\n",
    "\n",
    "\n",
    "\n"
   ]
  },
  {
   "cell_type": "code",
   "execution_count": 36,
   "metadata": {
    "colab": {
     "base_uri": "https://localhost:8080/",
     "height": 74
    },
    "id": "Q0YjUEhE6XBL",
    "outputId": "164c29a8-c884-4fb0-d096-b9569f6437e4"
   },
   "outputs": [
    {
     "data": {
      "text/html": [
       "<style>#sk-container-id-3 {color: black;background-color: white;}#sk-container-id-3 pre{padding: 0;}#sk-container-id-3 div.sk-toggleable {background-color: white;}#sk-container-id-3 label.sk-toggleable__label {cursor: pointer;display: block;width: 100%;margin-bottom: 0;padding: 0.3em;box-sizing: border-box;text-align: center;}#sk-container-id-3 label.sk-toggleable__label-arrow:before {content: \"▸\";float: left;margin-right: 0.25em;color: #696969;}#sk-container-id-3 label.sk-toggleable__label-arrow:hover:before {color: black;}#sk-container-id-3 div.sk-estimator:hover label.sk-toggleable__label-arrow:before {color: black;}#sk-container-id-3 div.sk-toggleable__content {max-height: 0;max-width: 0;overflow: hidden;text-align: left;background-color: #f0f8ff;}#sk-container-id-3 div.sk-toggleable__content pre {margin: 0.2em;color: black;border-radius: 0.25em;background-color: #f0f8ff;}#sk-container-id-3 input.sk-toggleable__control:checked~div.sk-toggleable__content {max-height: 200px;max-width: 100%;overflow: auto;}#sk-container-id-3 input.sk-toggleable__control:checked~label.sk-toggleable__label-arrow:before {content: \"▾\";}#sk-container-id-3 div.sk-estimator input.sk-toggleable__control:checked~label.sk-toggleable__label {background-color: #d4ebff;}#sk-container-id-3 div.sk-label input.sk-toggleable__control:checked~label.sk-toggleable__label {background-color: #d4ebff;}#sk-container-id-3 input.sk-hidden--visually {border: 0;clip: rect(1px 1px 1px 1px);clip: rect(1px, 1px, 1px, 1px);height: 1px;margin: -1px;overflow: hidden;padding: 0;position: absolute;width: 1px;}#sk-container-id-3 div.sk-estimator {font-family: monospace;background-color: #f0f8ff;border: 1px dotted black;border-radius: 0.25em;box-sizing: border-box;margin-bottom: 0.5em;}#sk-container-id-3 div.sk-estimator:hover {background-color: #d4ebff;}#sk-container-id-3 div.sk-parallel-item::after {content: \"\";width: 100%;border-bottom: 1px solid gray;flex-grow: 1;}#sk-container-id-3 div.sk-label:hover label.sk-toggleable__label {background-color: #d4ebff;}#sk-container-id-3 div.sk-serial::before {content: \"\";position: absolute;border-left: 1px solid gray;box-sizing: border-box;top: 0;bottom: 0;left: 50%;z-index: 0;}#sk-container-id-3 div.sk-serial {display: flex;flex-direction: column;align-items: center;background-color: white;padding-right: 0.2em;padding-left: 0.2em;position: relative;}#sk-container-id-3 div.sk-item {position: relative;z-index: 1;}#sk-container-id-3 div.sk-parallel {display: flex;align-items: stretch;justify-content: center;background-color: white;position: relative;}#sk-container-id-3 div.sk-item::before, #sk-container-id-3 div.sk-parallel-item::before {content: \"\";position: absolute;border-left: 1px solid gray;box-sizing: border-box;top: 0;bottom: 0;left: 50%;z-index: -1;}#sk-container-id-3 div.sk-parallel-item {display: flex;flex-direction: column;z-index: 1;position: relative;background-color: white;}#sk-container-id-3 div.sk-parallel-item:first-child::after {align-self: flex-end;width: 50%;}#sk-container-id-3 div.sk-parallel-item:last-child::after {align-self: flex-start;width: 50%;}#sk-container-id-3 div.sk-parallel-item:only-child::after {width: 0;}#sk-container-id-3 div.sk-dashed-wrapped {border: 1px dashed gray;margin: 0 0.4em 0.5em 0.4em;box-sizing: border-box;padding-bottom: 0.4em;background-color: white;}#sk-container-id-3 div.sk-label label {font-family: monospace;font-weight: bold;display: inline-block;line-height: 1.2em;}#sk-container-id-3 div.sk-label-container {text-align: center;}#sk-container-id-3 div.sk-container {/* jupyter's `normalize.less` sets `[hidden] { display: none; }` but bootstrap.min.css set `[hidden] { display: none !important; }` so we also need the `!important` here to be able to override the default hidden behavior on the sphinx rendered scikit-learn.org. See: https://github.com/scikit-learn/scikit-learn/issues/21755 */display: inline-block !important;position: relative;}#sk-container-id-3 div.sk-text-repr-fallback {display: none;}</style><div id=\"sk-container-id-3\" class=\"sk-top-container\"><div class=\"sk-text-repr-fallback\"><pre>DecisionTreeClassifier(random_state=42)</pre><b>In a Jupyter environment, please rerun this cell to show the HTML representation or trust the notebook. <br />On GitHub, the HTML representation is unable to render, please try loading this page with nbviewer.org.</b></div><div class=\"sk-container\" hidden><div class=\"sk-item\"><div class=\"sk-estimator sk-toggleable\"><input class=\"sk-toggleable__control sk-hidden--visually\" id=\"sk-estimator-id-3\" type=\"checkbox\" checked><label for=\"sk-estimator-id-3\" class=\"sk-toggleable__label sk-toggleable__label-arrow\">DecisionTreeClassifier</label><div class=\"sk-toggleable__content\"><pre>DecisionTreeClassifier(random_state=42)</pre></div></div></div></div></div>"
      ],
      "text/plain": [
       "DecisionTreeClassifier(random_state=42)"
      ]
     },
     "execution_count": 36,
     "metadata": {},
     "output_type": "execute_result"
    }
   ],
   "source": [
    "# Huấn\tluyện\tmô\thình\tphân\tlớp\ttrên\ttập\ttrain\n",
    "from sklearn.tree import DecisionTreeClassifier\n",
    "\n",
    "# Khởi tạo mô hình DecisionTreeClassifier\n",
    "dt_model = DecisionTreeClassifier(random_state=42)\n",
    "\n",
    "# Huấn luyện mô hình trên tập train\n",
    "dt_model.fit(X_train, y_train)\n"
   ]
  },
  {
   "cell_type": "code",
   "execution_count": 37,
   "metadata": {
    "id": "wF8i6ucA6XDr"
   },
   "outputs": [],
   "source": [
    "# Dự đoán nhãn lớp cho tập test\n",
    "y_pred = dt_model.predict(X_test)"
   ]
  },
  {
   "cell_type": "code",
   "execution_count": 38,
   "metadata": {
    "colab": {
     "base_uri": "https://localhost:8080/"
    },
    "id": "zbxXKmEa-M1O",
    "outputId": "41aa96d9-0047-4f2d-f2aa-ff3daa9c2af6"
   },
   "outputs": [
    {
     "name": "stdout",
     "output_type": "stream",
     "text": [
      "Accuracy của mô hình trên tập test: 1.0\n",
      "Classification report:\n",
      "              precision    recall  f1-score   support\n",
      "\n",
      "      setosa       1.00      1.00      1.00        10\n",
      "  versicolor       1.00      1.00      1.00         9\n",
      "   virginica       1.00      1.00      1.00        11\n",
      "\n",
      "    accuracy                           1.00        30\n",
      "   macro avg       1.00      1.00      1.00        30\n",
      "weighted avg       1.00      1.00      1.00        30\n",
      "\n"
     ]
    }
   ],
   "source": [
    "from sklearn.metrics import accuracy_score, classification_report\n",
    "\n",
    "# Tính và in ra Accuracy của mô hình trên tập test\n",
    "accuracy = accuracy_score(y_test, y_pred)\n",
    "print(\"Accuracy của mô hình trên tập test:\", accuracy)\n",
    "\n",
    "# Tính và in ra Precision, Recall, F1-score của từng lớp và trung bình của mô hình trên tập test\n",
    "report = classification_report(y_test, y_pred, target_names=iris.target_names)\n",
    "print(\"Classification report:\")\n",
    "print(report)"
   ]
  },
  {
   "cell_type": "code",
   "execution_count": 19,
   "metadata": {
    "colab": {
     "base_uri": "https://localhost:8080/",
     "height": 564
    },
    "id": "goFHygrM-M3u",
    "outputId": "bbf49e5e-22f2-4a50-bc0f-ebf887454ed2"
   },
   "outputs": [
    {
     "data": {
      "image/png": "[encoded data removed]",
      "text/plain": [
       "<Figure size 800x600 with 2 Axes>"
      ]
     },
     "metadata": {},
     "output_type": "display_data"
    }
   ],
   "source": [
    "import matplotlib.pyplot as plt\n",
    "import seaborn as sns\n",
    "from sklearn.metrics import confusion_matrix\n",
    "\n",
    "# Tính confusion matrix\n",
    "cm = confusion_matrix(y_test, y_pred)\n",
    "\n",
    "# Vẽ bản đồ nhiệt\n",
    "plt.figure(figsize=(8, 6))\n",
    "sns.heatmap(cm, annot=True, cmap='Blues', fmt='g', xticklabels=iris.target_names, yticklabels=iris.target_names)\n",
    "plt.xlabel('Predicted labels')\n",
    "plt.ylabel('True labels')\n",
    "plt.title('Confusion Matrix')\n",
    "plt.show()"
   ]
  },
  {
   "cell_type": "markdown",
   "metadata": {
    "id": "eDomdnu--eUA"
   },
   "source": [
    "**Sử\tdụng\tNaïve\tBayes\tđể\tphân\tlớp\tvà\tthực\thiện\tcác\tyêu\tcầu\tnhư**"
   ]
  },
  {
   "cell_type": "code",
   "execution_count": 20,
   "metadata": {
    "id": "fdFJxQ-k-M6W"
   },
   "outputs": [],
   "source": [
    "from sklearn.naive_bayes import GaussianNB\n",
    "\n",
    "# Khởi tạo mô hình Naïve Bayes\n",
    "nb_model = GaussianNB()"
   ]
  },
  {
   "cell_type": "code",
   "execution_count": 21,
   "metadata": {
    "id": "rQmXBvMq-M82"
   },
   "outputs": [],
   "source": [
    "# Huấn luyện mô hình trên tập train\n",
    "nb_model.fit(X_train, y_train)\n",
    "\n",
    "# Dự đoán nhãn lớp cho tập test\n",
    "nb_y_pred = nb_model.predict(X_test)"
   ]
  },
  {
   "cell_type": "code",
   "execution_count": 22,
   "metadata": {
    "colab": {
     "base_uri": "https://localhost:8080/"
    },
    "id": "2eNvUDYL-sPq",
    "outputId": "0d66c7e1-d960-4810-d9cc-093e9da73bb5"
   },
   "outputs": [
    {
     "name": "stdout",
     "output_type": "stream",
     "text": [
      "Accuracy của mô hình Naïve Bayes trên tập test: 1.0\n",
      "Classification report của mô hình Naïve Bayes:\n",
      "              precision    recall  f1-score   support\n",
      "\n",
      "      setosa       1.00      1.00      1.00        10\n",
      "  versicolor       1.00      1.00      1.00         9\n",
      "   virginica       1.00      1.00      1.00        11\n",
      "\n",
      "    accuracy                           1.00        30\n",
      "   macro avg       1.00      1.00      1.00        30\n",
      "weighted avg       1.00      1.00      1.00        30\n",
      "\n"
     ]
    }
   ],
   "source": [
    "# Tính và in ra Accuracy của mô hình trên tập test\n",
    "nb_accuracy = accuracy_score(y_test, nb_y_pred)\n",
    "print(\"Accuracy của mô hình Naïve Bayes trên tập test:\", nb_accuracy)\n",
    "\n",
    "# Tính và in ra Precision, Recall, F1-score của từng lớp và trung bình của mô hình trên tập test\n",
    "nb_report = classification_report(y_test, nb_y_pred, target_names=iris.target_names)\n",
    "print(\"Classification report của mô hình Naïve Bayes:\")\n",
    "print(nb_report)"
   ]
  },
  {
   "cell_type": "code",
   "execution_count": 23,
   "metadata": {
    "colab": {
     "base_uri": "https://localhost:8080/",
     "height": 565
    },
    "id": "erZXhY4Y-sSL",
    "outputId": "f64ecae1-73be-43ea-ca48-8429ecc132af"
   },
   "outputs": [
    {
     "data": {
      "image/png": "[encoded data removed]",
      "text/plain": [
       "<Figure size 800x600 with 2 Axes>"
      ]
     },
     "metadata": {},
     "output_type": "display_data"
    }
   ],
   "source": [
    "# Tính confusion matrix\n",
    "nb_cm = confusion_matrix(y_test, nb_y_pred)\n",
    "\n",
    "# Vẽ bản đồ nhiệt cho confusion matrix\n",
    "plt.figure(figsize=(8, 6))\n",
    "sns.heatmap(nb_cm, annot=True, cmap='Blues', fmt='g', xticklabels=iris.target_names, yticklabels=iris.target_names)\n",
    "plt.xlabel('Predicted labels')\n",
    "plt.ylabel('True labels')\n",
    "plt.title('Confusion Matrix của mô hình Naïve Bayes')\n",
    "plt.show()"
   ]
  },
  {
   "cell_type": "markdown",
   "metadata": {
    "id": "zYMI41Ho_hdo"
   },
   "source": [
    "**Sử\tdụng\tK Nearest Neighbors\tClassizier để\tphân\tlớp\tvà\tthực\thiện\tcác\tyêu\tcầu**"
   ]
  },
  {
   "cell_type": "code",
   "execution_count": 25,
   "metadata": {
    "colab": {
     "base_uri": "https://localhost:8080/",
     "height": 74
    },
    "id": "5MDhR_xS-sUi",
    "outputId": "511842c0-eb9a-414f-e7af-2c2645a623ad"
   },
   "outputs": [
    {
     "data": {
      "text/html": [
       "<style>#sk-container-id-2 {color: black;background-color: white;}#sk-container-id-2 pre{padding: 0;}#sk-container-id-2 div.sk-toggleable {background-color: white;}#sk-container-id-2 label.sk-toggleable__label {cursor: pointer;display: block;width: 100%;margin-bottom: 0;padding: 0.3em;box-sizing: border-box;text-align: center;}#sk-container-id-2 label.sk-toggleable__label-arrow:before {content: \"▸\";float: left;margin-right: 0.25em;color: #696969;}#sk-container-id-2 label.sk-toggleable__label-arrow:hover:before {color: black;}#sk-container-id-2 div.sk-estimator:hover label.sk-toggleable__label-arrow:before {color: black;}#sk-container-id-2 div.sk-toggleable__content {max-height: 0;max-width: 0;overflow: hidden;text-align: left;background-color: #f0f8ff;}#sk-container-id-2 div.sk-toggleable__content pre {margin: 0.2em;color: black;border-radius: 0.25em;background-color: #f0f8ff;}#sk-container-id-2 input.sk-toggleable__control:checked~div.sk-toggleable__content {max-height: 200px;max-width: 100%;overflow: auto;}#sk-container-id-2 input.sk-toggleable__control:checked~label.sk-toggleable__label-arrow:before {content: \"▾\";}#sk-container-id-2 div.sk-estimator input.sk-toggleable__control:checked~label.sk-toggleable__label {background-color: #d4ebff;}#sk-container-id-2 div.sk-label input.sk-toggleable__control:checked~label.sk-toggleable__label {background-color: #d4ebff;}#sk-container-id-2 input.sk-hidden--visually {border: 0;clip: rect(1px 1px 1px 1px);clip: rect(1px, 1px, 1px, 1px);height: 1px;margin: -1px;overflow: hidden;padding: 0;position: absolute;width: 1px;}#sk-container-id-2 div.sk-estimator {font-family: monospace;background-color: #f0f8ff;border: 1px dotted black;border-radius: 0.25em;box-sizing: border-box;margin-bottom: 0.5em;}#sk-container-id-2 div.sk-estimator:hover {background-color: #d4ebff;}#sk-container-id-2 div.sk-parallel-item::after {content: \"\";width: 100%;border-bottom: 1px solid gray;flex-grow: 1;}#sk-container-id-2 div.sk-label:hover label.sk-toggleable__label {background-color: #d4ebff;}#sk-container-id-2 div.sk-serial::before {content: \"\";position: absolute;border-left: 1px solid gray;box-sizing: border-box;top: 0;bottom: 0;left: 50%;z-index: 0;}#sk-container-id-2 div.sk-serial {display: flex;flex-direction: column;align-items: center;background-color: white;padding-right: 0.2em;padding-left: 0.2em;position: relative;}#sk-container-id-2 div.sk-item {position: relative;z-index: 1;}#sk-container-id-2 div.sk-parallel {display: flex;align-items: stretch;justify-content: center;background-color: white;position: relative;}#sk-container-id-2 div.sk-item::before, #sk-container-id-2 div.sk-parallel-item::before {content: \"\";position: absolute;border-left: 1px solid gray;box-sizing: border-box;top: 0;bottom: 0;left: 50%;z-index: -1;}#sk-container-id-2 div.sk-parallel-item {display: flex;flex-direction: column;z-index: 1;position: relative;background-color: white;}#sk-container-id-2 div.sk-parallel-item:first-child::after {align-self: flex-end;width: 50%;}#sk-container-id-2 div.sk-parallel-item:last-child::after {align-self: flex-start;width: 50%;}#sk-container-id-2 div.sk-parallel-item:only-child::after {width: 0;}#sk-container-id-2 div.sk-dashed-wrapped {border: 1px dashed gray;margin: 0 0.4em 0.5em 0.4em;box-sizing: border-box;padding-bottom: 0.4em;background-color: white;}#sk-container-id-2 div.sk-label label {font-family: monospace;font-weight: bold;display: inline-block;line-height: 1.2em;}#sk-container-id-2 div.sk-label-container {text-align: center;}#sk-container-id-2 div.sk-container {/* jupyter's `normalize.less` sets `[hidden] { display: none; }` but bootstrap.min.css set `[hidden] { display: none !important; }` so we also need the `!important` here to be able to override the default hidden behavior on the sphinx rendered scikit-learn.org. See: https://github.com/scikit-learn/scikit-learn/issues/21755 */display: inline-block !important;position: relative;}#sk-container-id-2 div.sk-text-repr-fallback {display: none;}</style><div id=\"sk-container-id-2\" class=\"sk-top-container\"><div class=\"sk-text-repr-fallback\"><pre>KNeighborsClassifier(n_neighbors=3)</pre><b>In a Jupyter environment, please rerun this cell to show the HTML representation or trust the notebook. <br />On GitHub, the HTML representation is unable to render, please try loading this page with nbviewer.org.</b></div><div class=\"sk-container\" hidden><div class=\"sk-item\"><div class=\"sk-estimator sk-toggleable\"><input class=\"sk-toggleable__control sk-hidden--visually\" id=\"sk-estimator-id-2\" type=\"checkbox\" checked><label for=\"sk-estimator-id-2\" class=\"sk-toggleable__label sk-toggleable__label-arrow\">KNeighborsClassifier</label><div class=\"sk-toggleable__content\"><pre>KNeighborsClassifier(n_neighbors=3)</pre></div></div></div></div></div>"
      ],
      "text/plain": [
       "KNeighborsClassifier(n_neighbors=3)"
      ]
     },
     "execution_count": 25,
     "metadata": {},
     "output_type": "execute_result"
    }
   ],
   "source": [
    "from sklearn.neighbors import KNeighborsClassifier\n",
    "\n",
    "# Khởi tạo mô hình KNN với số lượng láng giềng (neighbors) được chọn là k\n",
    "k = 3  # Đặt số lượng láng giềng là 3, bạn có thể điều chỉnh giá trị này nếu cần\n",
    "knn_model = KNeighborsClassifier(n_neighbors=k)\n",
    "\n",
    "# Huấn luyện mô hình trên tập train\n",
    "knn_model.fit(X_train, y_train)"
   ]
  },
  {
   "cell_type": "code",
   "execution_count": 26,
   "metadata": {
    "id": "7l32Jfwm-sYz"
   },
   "outputs": [],
   "source": [
    "# Dự đoán nhãn lớp cho tập test\n",
    "knn_y_pred = knn_model.predict(X_test)"
   ]
  },
  {
   "cell_type": "code",
   "execution_count": 27,
   "metadata": {
    "colab": {
     "base_uri": "https://localhost:8080/"
    },
    "id": "D4vCJHIF_qSY",
    "outputId": "d8a5ef6c-1274-4ba2-ee83-af5a7918fcb0"
   },
   "outputs": [
    {
     "name": "stdout",
     "output_type": "stream",
     "text": [
      "Accuracy của mô hình KNN trên tập test: 1.0\n",
      "Classification report của mô hình KNN:\n",
      "              precision    recall  f1-score   support\n",
      "\n",
      "      setosa       1.00      1.00      1.00        10\n",
      "  versicolor       1.00      1.00      1.00         9\n",
      "   virginica       1.00      1.00      1.00        11\n",
      "\n",
      "    accuracy                           1.00        30\n",
      "   macro avg       1.00      1.00      1.00        30\n",
      "weighted avg       1.00      1.00      1.00        30\n",
      "\n"
     ]
    }
   ],
   "source": [
    "# Tính và in ra Accuracy của mô hình trên tập test\n",
    "knn_accuracy = accuracy_score(y_test, knn_y_pred)\n",
    "print(\"Accuracy của mô hình KNN trên tập test:\", knn_accuracy)\n",
    "\n",
    "# Tính và in ra Precision, Recall, F1-score của từng lớp và trung bình của mô hình trên tập test\n",
    "knn_report = classification_report(y_test, knn_y_pred, target_names=iris.target_names)\n",
    "print(\"Classification report của mô hình KNN:\")\n",
    "print(knn_report)"
   ]
  },
  {
   "cell_type": "code",
   "execution_count": 28,
   "metadata": {
    "colab": {
     "base_uri": "https://localhost:8080/",
     "height": 564
    },
    "id": "GTzTfQ8I_qVI",
    "outputId": "c3afbec2-5fea-4fba-df94-aac7708cee65"
   },
   "outputs": [
    {
     "data": {
      "image/png": "[encoded data removed]",
      "text/plain": [
       "<Figure size 800x600 with 2 Axes>"
      ]
     },
     "metadata": {},
     "output_type": "display_data"
    }
   ],
   "source": [
    "# Tính confusion matrix\n",
    "knn_cm = confusion_matrix(y_test, knn_y_pred)\n",
    "\n",
    "# Vẽ bản đồ nhiệt cho confusion matrix\n",
    "plt.figure(figsize=(8, 6))\n",
    "sns.heatmap(knn_cm, annot=True, cmap='Blues', fmt='g', xticklabels=iris.target_names, yticklabels=iris.target_names)\n",
    "plt.xlabel('Predicted labels')\n",
    "plt.ylabel('True labels')\n",
    "plt.title('Confusion Matrix của mô hình KNN')\n",
    "plt.show()"
   ]
  },
  {
   "cell_type": "markdown",
   "metadata": {
    "id": "dBmg9vMSATZe"
   },
   "source": [
    "**Neural Network**"
   ]
  },
  {
   "cell_type": "code",
   "execution_count": 29,
   "metadata": {
    "id": "iveJcPWb_qXr"
   },
   "outputs": [],
   "source": [
    "from keras.models import Sequential\n",
    "from keras.layers import Dense\n",
    "\n",
    "# Xây dựng mô hình neural network\n",
    "model = Sequential()\n",
    "\n",
    "# Thêm hidden layer 1 với 10 neuron và hàm kích hoạt Relu\n",
    "model.add(Dense(10, activation='relu', input_shape=(4,)))\n",
    "\n",
    "# Thêm hidden layer 2 với 20 neuron và hàm kích hoạt Relu\n",
    "model.add(Dense(20, activation='relu'))\n",
    "\n",
    "# Thêm output layer với hàm kích hoạt Softmax\n",
    "model.add(Dense(3, activation='softmax'))\n",
    "\n",
    "# Biên dịch mô hình với tối ưu hóa adam, loss function sparse_categorical_crossentropy và metric là accuracy\n",
    "model.compile(optimizer='adam',\n",
    "              loss='sparse_categorical_crossentropy',\n",
    "              metrics=['accuracy'])\n"
   ]
  },
  {
   "cell_type": "code",
   "execution_count": 32,
   "metadata": {
    "colab": {
     "base_uri": "https://localhost:8080/"
    },
    "id": "zrRnW5_vAyFf",
    "outputId": "0aa5a798-f44d-4503-867c-0225430b7784"
   },
   "outputs": [
    {
     "name": "stdout",
     "output_type": "stream",
     "text": [
      "Epoch 1/100\n",
      "120/120 [==============================] - 1s 6ms/step - loss: 0.0926 - accuracy: 0.9667\n",
      "Epoch 2/100\n",
      "120/120 [==============================] - 1s 8ms/step - loss: 0.0887 - accuracy: 0.9667\n",
      "Epoch 3/100\n",
      "120/120 [==============================] - 1s 5ms/step - loss: 0.0922 - accuracy: 0.9750\n",
      "Epoch 4/100\n",
      "120/120 [==============================] - 1s 6ms/step - loss: 0.0845 - accuracy: 0.9667\n",
      "Epoch 5/100\n",
      "120/120 [==============================] - 1s 4ms/step - loss: 0.0894 - accuracy: 0.9583\n",
      "Epoch 6/100\n",
      "120/120 [==============================] - 1s 5ms/step - loss: 0.0864 - accuracy: 0.9583\n",
      "Epoch 7/100\n",
      "120/120 [==============================] - 1s 5ms/step - loss: 0.0862 - accuracy: 0.9667\n",
      "Epoch 8/100\n",
      "120/120 [==============================] - 1s 5ms/step - loss: 0.0752 - accuracy: 0.9833\n",
      "Epoch 9/100\n",
      "120/120 [==============================] - 0s 3ms/step - loss: 0.0800 - accuracy: 0.9833\n",
      "Epoch 10/100\n",
      "120/120 [==============================] - 0s 4ms/step - loss: 0.0835 - accuracy: 0.9750\n",
      "Epoch 11/100\n",
      "120/120 [==============================] - 1s 5ms/step - loss: 0.0868 - accuracy: 0.9667\n",
      "Epoch 12/100\n",
      "120/120 [==============================] - 0s 3ms/step - loss: 0.0801 - accuracy: 0.9750\n",
      "Epoch 13/100\n",
      "120/120 [==============================] - 0s 4ms/step - loss: 0.0791 - accuracy: 0.9667\n",
      "Epoch 14/100\n",
      "120/120 [==============================] - 0s 4ms/step - loss: 0.0782 - accuracy: 0.9583\n",
      "Epoch 15/100\n",
      "120/120 [==============================] - 1s 7ms/step - loss: 0.0690 - accuracy: 0.9667\n",
      "Epoch 16/100\n",
      "120/120 [==============================] - 1s 7ms/step - loss: 0.0785 - accuracy: 0.9750\n",
      "Epoch 17/100\n",
      "120/120 [==============================] - 1s 7ms/step - loss: 0.0759 - accuracy: 0.9750\n",
      "Epoch 18/100\n",
      "120/120 [==============================] - 0s 4ms/step - loss: 0.0781 - accuracy: 0.9667\n",
      "Epoch 19/100\n",
      "120/120 [==============================] - 0s 2ms/step - loss: 0.0806 - accuracy: 0.9667\n",
      "Epoch 20/100\n",
      "120/120 [==============================] - 0s 2ms/step - loss: 0.0708 - accuracy: 0.9750\n",
      "Epoch 21/100\n",
      "120/120 [==============================] - 0s 3ms/step - loss: 0.0812 - accuracy: 0.9667\n",
      "Epoch 22/100\n",
      "120/120 [==============================] - 1s 5ms/step - loss: 0.0745 - accuracy: 0.9417\n",
      "Epoch 23/100\n",
      "120/120 [==============================] - 1s 6ms/step - loss: 0.0692 - accuracy: 0.9667\n",
      "Epoch 24/100\n",
      "120/120 [==============================] - 1s 6ms/step - loss: 0.0672 - accuracy: 0.9667\n",
      "Epoch 25/100\n",
      "120/120 [==============================] - 1s 5ms/step - loss: 0.0883 - accuracy: 0.9667\n",
      "Epoch 26/100\n",
      "120/120 [==============================] - 1s 5ms/step - loss: 0.0747 - accuracy: 0.9583\n",
      "Epoch 27/100\n",
      "120/120 [==============================] - 0s 3ms/step - loss: 0.0693 - accuracy: 0.9583\n",
      "Epoch 28/100\n",
      "120/120 [==============================] - 0s 3ms/step - loss: 0.0855 - accuracy: 0.9500\n",
      "Epoch 29/100\n",
      "120/120 [==============================] - 0s 3ms/step - loss: 0.0765 - accuracy: 0.9750\n",
      "Epoch 30/100\n",
      "120/120 [==============================] - 0s 3ms/step - loss: 0.0680 - accuracy: 0.9750\n",
      "Epoch 31/100\n",
      "120/120 [==============================] - 0s 3ms/step - loss: 0.0756 - accuracy: 0.9667\n",
      "Epoch 32/100\n",
      "120/120 [==============================] - 0s 3ms/step - loss: 0.0707 - accuracy: 0.9583\n",
      "Epoch 33/100\n",
      "120/120 [==============================] - 0s 3ms/step - loss: 0.0820 - accuracy: 0.9583\n",
      "Epoch 34/100\n",
      "120/120 [==============================] - 0s 3ms/step - loss: 0.0676 - accuracy: 0.9667\n",
      "Epoch 35/100\n",
      "120/120 [==============================] - 0s 3ms/step - loss: 0.0639 - accuracy: 0.9750\n",
      "Epoch 36/100\n",
      "120/120 [==============================] - 0s 3ms/step - loss: 0.0609 - accuracy: 0.9833\n",
      "Epoch 37/100\n",
      "120/120 [==============================] - 0s 3ms/step - loss: 0.0725 - accuracy: 0.9667\n",
      "Epoch 38/100\n",
      "120/120 [==============================] - 0s 3ms/step - loss: 0.0693 - accuracy: 0.9750\n",
      "Epoch 39/100\n",
      "120/120 [==============================] - 0s 3ms/step - loss: 0.0774 - accuracy: 0.9750\n",
      "Epoch 40/100\n",
      "120/120 [==============================] - 0s 3ms/step - loss: 0.0692 - accuracy: 0.9667\n",
      "Epoch 41/100\n",
      "120/120 [==============================] - 0s 2ms/step - loss: 0.0695 - accuracy: 0.9750\n",
      "Epoch 42/100\n",
      "120/120 [==============================] - 0s 2ms/step - loss: 0.0748 - accuracy: 0.9667\n",
      "Epoch 43/100\n",
      "120/120 [==============================] - 0s 2ms/step - loss: 0.0736 - accuracy: 0.9667\n",
      "Epoch 44/100\n",
      "120/120 [==============================] - 0s 2ms/step - loss: 0.0745 - accuracy: 0.9667\n",
      "Epoch 45/100\n",
      "120/120 [==============================] - 0s 2ms/step - loss: 0.0638 - accuracy: 0.9667\n",
      "Epoch 46/100\n",
      "120/120 [==============================] - 0s 2ms/step - loss: 0.0626 - accuracy: 0.9583\n",
      "Epoch 47/100\n",
      "120/120 [==============================] - 0s 2ms/step - loss: 0.0717 - accuracy: 0.9583\n",
      "Epoch 48/100\n",
      "120/120 [==============================] - 0s 2ms/step - loss: 0.0624 - accuracy: 0.9667\n",
      "Epoch 49/100\n",
      "120/120 [==============================] - 0s 2ms/step - loss: 0.0591 - accuracy: 0.9667\n",
      "Epoch 50/100\n",
      "120/120 [==============================] - 0s 2ms/step - loss: 0.0662 - accuracy: 0.9667\n",
      "Epoch 51/100\n",
      "120/120 [==============================] - 0s 2ms/step - loss: 0.0685 - accuracy: 0.9750\n",
      "Epoch 52/100\n",
      "120/120 [==============================] - 0s 2ms/step - loss: 0.0646 - accuracy: 0.9667\n",
      "Epoch 53/100\n",
      "120/120 [==============================] - 0s 2ms/step - loss: 0.0704 - accuracy: 0.9667\n",
      "Epoch 54/100\n",
      "120/120 [==============================] - 0s 2ms/step - loss: 0.0700 - accuracy: 0.9750\n",
      "Epoch 55/100\n",
      "120/120 [==============================] - 0s 2ms/step - loss: 0.0612 - accuracy: 0.9750\n",
      "Epoch 56/100\n",
      "120/120 [==============================] - 0s 2ms/step - loss: 0.0729 - accuracy: 0.9583\n",
      "Epoch 57/100\n",
      "120/120 [==============================] - 0s 2ms/step - loss: 0.0743 - accuracy: 0.9583\n",
      "Epoch 58/100\n",
      "120/120 [==============================] - 0s 2ms/step - loss: 0.0716 - accuracy: 0.9750\n",
      "Epoch 59/100\n",
      "120/120 [==============================] - 0s 2ms/step - loss: 0.0655 - accuracy: 0.9750\n",
      "Epoch 60/100\n",
      "120/120 [==============================] - 0s 2ms/step - loss: 0.0676 - accuracy: 0.9667\n",
      "Epoch 61/100\n",
      "120/120 [==============================] - 0s 2ms/step - loss: 0.0655 - accuracy: 0.9667\n",
      "Epoch 62/100\n",
      "120/120 [==============================] - 0s 2ms/step - loss: 0.0632 - accuracy: 0.9750\n",
      "Epoch 63/100\n",
      "120/120 [==============================] - 0s 2ms/step - loss: 0.0733 - accuracy: 0.9667\n",
      "Epoch 64/100\n",
      "120/120 [==============================] - 0s 2ms/step - loss: 0.0689 - accuracy: 0.9667\n",
      "Epoch 65/100\n",
      "120/120 [==============================] - 0s 2ms/step - loss: 0.0740 - accuracy: 0.9667\n",
      "Epoch 66/100\n",
      "120/120 [==============================] - 0s 2ms/step - loss: 0.0620 - accuracy: 0.9667\n",
      "Epoch 67/100\n",
      "120/120 [==============================] - 0s 3ms/step - loss: 0.0598 - accuracy: 0.9833\n",
      "Epoch 68/100\n",
      "120/120 [==============================] - 0s 2ms/step - loss: 0.0762 - accuracy: 0.9667\n",
      "Epoch 69/100\n",
      "120/120 [==============================] - 0s 2ms/step - loss: 0.0686 - accuracy: 0.9667\n",
      "Epoch 70/100\n",
      "120/120 [==============================] - 0s 3ms/step - loss: 0.0678 - accuracy: 0.9583\n",
      "Epoch 71/100\n",
      "120/120 [==============================] - 0s 2ms/step - loss: 0.0760 - accuracy: 0.9583\n",
      "Epoch 72/100\n",
      "120/120 [==============================] - 0s 3ms/step - loss: 0.0699 - accuracy: 0.9667\n",
      "Epoch 73/100\n",
      "120/120 [==============================] - 0s 3ms/step - loss: 0.0572 - accuracy: 0.9750\n",
      "Epoch 74/100\n",
      "120/120 [==============================] - 0s 2ms/step - loss: 0.0832 - accuracy: 0.9500\n",
      "Epoch 75/100\n",
      "120/120 [==============================] - 0s 2ms/step - loss: 0.0720 - accuracy: 0.9500\n",
      "Epoch 76/100\n",
      "120/120 [==============================] - 0s 2ms/step - loss: 0.0716 - accuracy: 0.9750\n",
      "Epoch 77/100\n",
      "120/120 [==============================] - 0s 2ms/step - loss: 0.0627 - accuracy: 0.9583\n",
      "Epoch 78/100\n",
      "120/120 [==============================] - 0s 2ms/step - loss: 0.0759 - accuracy: 0.9583\n",
      "Epoch 79/100\n",
      "120/120 [==============================] - 0s 2ms/step - loss: 0.0692 - accuracy: 0.9750\n",
      "Epoch 80/100\n",
      "120/120 [==============================] - 0s 2ms/step - loss: 0.0625 - accuracy: 0.9667\n",
      "Epoch 81/100\n",
      "120/120 [==============================] - 0s 2ms/step - loss: 0.0656 - accuracy: 0.9583\n",
      "Epoch 82/100\n",
      "120/120 [==============================] - 0s 2ms/step - loss: 0.0703 - accuracy: 0.9750\n",
      "Epoch 83/100\n",
      "120/120 [==============================] - 0s 2ms/step - loss: 0.0649 - accuracy: 0.9667\n",
      "Epoch 84/100\n",
      "120/120 [==============================] - 0s 2ms/step - loss: 0.0660 - accuracy: 0.9667\n",
      "Epoch 85/100\n",
      "120/120 [==============================] - 0s 2ms/step - loss: 0.0751 - accuracy: 0.9500\n",
      "Epoch 86/100\n",
      "120/120 [==============================] - 0s 2ms/step - loss: 0.0685 - accuracy: 0.9667\n",
      "Epoch 87/100\n",
      "120/120 [==============================] - 0s 2ms/step - loss: 0.0585 - accuracy: 0.9833\n",
      "Epoch 88/100\n",
      "120/120 [==============================] - 0s 2ms/step - loss: 0.0765 - accuracy: 0.9583\n",
      "Epoch 89/100\n",
      "120/120 [==============================] - 0s 2ms/step - loss: 0.0742 - accuracy: 0.9833\n",
      "Epoch 90/100\n",
      "120/120 [==============================] - 0s 2ms/step - loss: 0.0665 - accuracy: 0.9750\n",
      "Epoch 91/100\n",
      "120/120 [==============================] - 0s 2ms/step - loss: 0.0646 - accuracy: 0.9750\n",
      "Epoch 92/100\n",
      "120/120 [==============================] - 0s 2ms/step - loss: 0.0714 - accuracy: 0.9667\n",
      "Epoch 93/100\n",
      "120/120 [==============================] - 0s 2ms/step - loss: 0.0682 - accuracy: 0.9583\n",
      "Epoch 94/100\n",
      "120/120 [==============================] - 0s 2ms/step - loss: 0.0637 - accuracy: 0.9667\n",
      "Epoch 95/100\n",
      "120/120 [==============================] - 0s 2ms/step - loss: 0.0641 - accuracy: 0.9750\n",
      "Epoch 96/100\n",
      "120/120 [==============================] - 0s 2ms/step - loss: 0.0750 - accuracy: 0.9667\n",
      "Epoch 97/100\n",
      "120/120 [==============================] - 0s 2ms/step - loss: 0.0746 - accuracy: 0.9583\n",
      "Epoch 98/100\n",
      "120/120 [==============================] - 0s 2ms/step - loss: 0.0659 - accuracy: 0.9750\n",
      "Epoch 99/100\n",
      "120/120 [==============================] - 0s 2ms/step - loss: 0.0634 - accuracy: 0.9667\n",
      "Epoch 100/100\n",
      "120/120 [==============================] - 0s 2ms/step - loss: 0.0632 - accuracy: 0.9750\n"
     ]
    },
    {
     "data": {
      "text/plain": [
       "<keras.src.callbacks.History at 0x793ff94b0820>"
      ]
     },
     "execution_count": 32,
     "metadata": {},
     "output_type": "execute_result"
    }
   ],
   "source": [
    "# Huấn luyện mô hình dựa trên tập train\n",
    "model.fit(X_train, y_train, epochs=100, batch_size=1, verbose=1)"
   ]
  },
  {
   "cell_type": "code",
   "execution_count": 33,
   "metadata": {
    "colab": {
     "base_uri": "https://localhost:8080/"
    },
    "id": "n8bveKZXBEZQ",
    "outputId": "22cdec0b-2f92-4727-b461-32e250ac0e82"
   },
   "outputs": [
    {
     "name": "stdout",
     "output_type": "stream",
     "text": [
      "1/1 [==============================] - 0s 229ms/step\n"
     ]
    }
   ],
   "source": [
    "# Dự đoán nhãn lớp cho tập test\n",
    "y_pred_prob = model.predict(X_test)\n",
    "y_pred = np.argmax(y_pred_prob, axis=1)"
   ]
  },
  {
   "cell_type": "code",
   "execution_count": 34,
   "metadata": {
    "colab": {
     "base_uri": "https://localhost:8080/"
    },
    "id": "TsyPPeGAA4Xv",
    "outputId": "cd9dc41c-9eb0-4039-bb9b-b49b5fe6e35c"
   },
   "outputs": [
    {
     "name": "stdout",
     "output_type": "stream",
     "text": [
      "Accuracy của mô hình trên tập test: 0.9666666666666667\n",
      "Classification report của mô hình trên tập test:\n",
      "              precision    recall  f1-score   support\n",
      "\n",
      "      setosa       1.00      1.00      1.00        10\n",
      "  versicolor       1.00      0.89      0.94         9\n",
      "   virginica       0.92      1.00      0.96        11\n",
      "\n",
      "    accuracy                           0.97        30\n",
      "   macro avg       0.97      0.96      0.97        30\n",
      "weighted avg       0.97      0.97      0.97        30\n",
      "\n"
     ]
    }
   ],
   "source": [
    "# Tính và in ra Accuracy của mô hình trên tập test\n",
    "accuracy = accuracy_score(y_test, y_pred)\n",
    "print(\"Accuracy của mô hình trên tập test:\", accuracy)\n",
    "\n",
    "# Tính và in ra Precision, Recall, F1-score của từng lớp và trung bình của mô hình trên tập test\n",
    "report = classification_report(y_test, y_pred, target_names=iris.target_names)\n",
    "print(\"Classification report của mô hình trên tập test:\")\n",
    "print(report)"
   ]
  },
  {
   "cell_type": "markdown",
   "metadata": {
    "id": "1CZAXi92B6hm"
   },
   "source": [
    "**Sử dụng các\tmô\thình\tphân\tlớp\tđã\thuấn\tluyện\tở\ttrên\t(câu e, f,\tg, h)\tcho\t03 mẫu\tdữ\tliệu\tmới\tsau:**"
   ]
  },
  {
   "cell_type": "code",
   "execution_count": 35,
   "metadata": {
    "id": "Wh86cvyjBv5H"
   },
   "outputs": [],
   "source": [
    "# Tạo array chứa 3 mẫu dữ liệu mới\n",
    "new_samples = np.array([\n",
    "    [6.2, 2.9, 4.3, 1.3],\n",
    "    [5.1, 3.5, 1.4, 0.2],\n",
    "    [7.3, 2.8, 6.4, 2.1]\n",
    "])"
   ]
  },
  {
   "cell_type": "code",
   "execution_count": 39,
   "metadata": {
    "colab": {
     "base_uri": "https://localhost:8080/"
    },
    "id": "CFZmmbhZB7ht",
    "outputId": "7a7c825f-2b3e-4e4d-970f-51c3b7f4a270"
   },
   "outputs": [
    {
     "name": "stdout",
     "output_type": "stream",
     "text": [
      "1/1 [==============================] - 0s 51ms/step\n"
     ]
    }
   ],
   "source": [
    "# Dự đoán nhãn lớp cho các mẫu dữ liệu mới bằng các mô hình đã huấn luyện\n",
    "dt_new_pred = dt_model.predict(new_samples)\n",
    "nb_new_pred = nb_model.predict(new_samples)\n",
    "knn_new_pred = knn_model.predict(new_samples)\n",
    "nn_new_pred = np.argmax(model.predict(new_samples), axis=1)"
   ]
  },
  {
   "cell_type": "code",
   "execution_count": 40,
   "metadata": {
    "colab": {
     "base_uri": "https://localhost:8080/"
    },
    "id": "MzBNA5kACrLd",
    "outputId": "d44e4068-21b7-466b-9e3b-cc4bf5ea10b6"
   },
   "outputs": [
    {
     "name": "stdout",
     "output_type": "stream",
     "text": [
      "Decision Tree:\n",
      "[2 2 2]\n",
      "Naive Bayes:\n",
      "[2 2 2]\n",
      "K Nearest Neighbors:\n",
      "[2 2 2]\n",
      "Neural Network:\n",
      "[2 0 2]\n"
     ]
    }
   ],
   "source": [
    "# In ra nhãn lớp dự đoán của các mô hình\n",
    "print(\"Decision Tree:\")\n",
    "print(dt_new_pred)\n",
    "\n",
    "print(\"Naive Bayes:\")\n",
    "print(nb_new_pred)\n",
    "\n",
    "print(\"K Nearest Neighbors:\")\n",
    "print(knn_new_pred)\n",
    "\n",
    "print(\"Neural Network:\")\n",
    "print(nn_new_pred)"
   ]
  },
  {
   "cell_type": "code",
   "execution_count": 44,
   "metadata": {
    "colab": {
     "base_uri": "https://localhost:8080/"
    },
    "id": "HNf9EiBPDloO",
    "outputId": "d2d9d53c-b54a-4e8c-d956-43f28a6b28a7"
   },
   "outputs": [
    {
     "name": "stdout",
     "output_type": "stream",
     "text": [
      "Mẫu dữ liệu 1: [6.2 2.9 4.3 1.3]\n",
      "Decision Tree: Virginica\n",
      "Naive Bayes: Virginica\n",
      "K Nearest Neighbors: Virginica\n",
      "Neural Network: Virginica\n",
      "\n",
      "Mẫu dữ liệu 2: [5.1 3.5 1.4 0.2]\n",
      "Decision Tree: Virginica\n",
      "Naive Bayes: Virginica\n",
      "K Nearest Neighbors: Virginica\n",
      "Neural Network: Setosa\n",
      "\n",
      "Mẫu dữ liệu 3: [7.3 2.8 6.4 2.1]\n",
      "Decision Tree: Virginica\n",
      "Naive Bayes: Virginica\n",
      "K Nearest Neighbors: Virginica\n",
      "Neural Network: Virginica\n",
      "\n"
     ]
    }
   ],
   "source": [
    "# Tên nhãn của các lớp\n",
    "class_labels = [\"Setosa\", \"Versicolor\", \"Virginica\"]\n",
    "# In ra thông tin\n",
    "for i, sample in enumerate(new_samples):\n",
    "    print(f\"Mẫu dữ liệu {i+1}: {sample}\")\n",
    "    print(f\"Decision Tree: {class_labels[dt_new_pred[i]]}\")\n",
    "    print(f\"Naive Bayes: {class_labels[nb_new_pred[i]]}\")\n",
    "    print(f\"K Nearest Neighbors: {class_labels[knn_new_pred[i]]}\")\n",
    "    print(f\"Neural Network: {class_labels[nn_new_pred[i]]}\")\n",
    "    print()"
   ]
  },
  {
   "cell_type": "markdown",
   "metadata": {
    "id": "zrn8_nuvDEWR"
   },
   "source": [
    "Kết quả này có ý nghĩa như sau:\n",
    "\n",
    "1. **Decision Tree**, **Naive Bayes** và **K Nearest Neighbors**: Các mô hình này đều dự đoán rằng các mẫu dữ liệu mới đều thuộc vào lớp có nhãn 2, tức là lớp \"Virginica\".\n",
    "\n",
    "2. **Neural Network**: Mô hình neural network dự đoán rằng mẫu dữ liệu đầu tiên và thứ ba cũng thuộc vào lớp \"Virginica\" (nhãn 2), nhưng mẫu dữ liệu thứ hai được dự đoán thuộc vào lớp \"Setosa\" (nhãn 0).\n",
    "\n",
    "Sự khác biệt trong dự đoán của mô hình neural network có thể do các mô hình khác nhau trong mỗi thuật toán đang học các biểu diễn khác nhau của dữ liệu hoặc do mô hình neural network cần thêm thời gian để học các mẫu dữ liệu mới một cách hiệu quả."
   ]
  },
  {
   "cell_type": "markdown",
   "metadata": {
    "id": "l3ZUASFxD7Go"
   },
   "source": [
    "Dựa trên kết quả dự đoán của các mô hình cho tập dữ liệu mới, chúng ta có thể đánh giá hiệu suất của mỗi mô hình như sau:\n",
    "\n",
    "1. **Decision Tree**:\n",
    "   - Tất cả các mẫu dữ liệu mới đều được dự đoán thuộc vào lớp Virginica.\n",
    "   - Đánh giá: Mô hình này có hiệu suất tốt trên tập dữ liệu mới, nhưng có thể gặp vấn đề khi mô hình quá phức tạp và dễ bị overfitting.\n",
    "\n",
    "2. **Naive Bayes**:\n",
    "   - Tất cả các mẫu dữ liệu mới đều được dự đoán thuộc vào lớp Virginica.\n",
    "   - Đánh giá: Mô hình Naive Bayes cũng cho kết quả tốt trên tập dữ liệu mới, nhưng có thể yếu khi dữ liệu không tuân theo phân phối chuẩn.\n",
    "\n",
    "3. **K Nearest Neighbors (KNN)**:\n",
    "   - Tất cả các mẫu dữ liệu mới đều được dự đoán thuộc vào lớp Virginica.\n",
    "   - Đánh giá: Mô hình KNN cho kết quả tương tự như Decision Tree và Naive Bayes, nhưng hiệu suất của nó có thể bị ảnh hưởng bởi việc lựa chọn kích thước của k.\n",
    "\n",
    "4. **Neural Network**:\n",
    "   - Một mẫu dữ liệu mới được dự đoán thuộc vào lớp Setosa, trong khi hai mẫu khác đều được dự đoán thuộc vào lớp Virginica.\n",
    "   - Đánh giá: Mô hình Neural Network có kết quả khá tốt, nhưng có thể cần thêm thời gian huấn luyện và tinh chỉnh tham số để cải thiện hiệu suất trên tập dữ liệu mới.\n",
    "\n",
    "Tóm lại, cả bốn mô hình đều cho kết quả tương đối tốt trên tập dữ liệu mới, nhưng cần xem xét thêm về khả năng tổng quát hóa và yếu tố khách quan khác khi áp dụng trên các tập dữ liệu khác nhau."
   ]
  }
 ],
 "metadata": {
  "colab": {
   "provenance": []
  },
  "kernelspec": {
   "display_name": "Python 3 (ipykernel)",
   "language": "python",
   "name": "python3"
  },
  "language_info": {
   "codemirror_mode": {
    "name": "ipython",
    "version": 3
   },
   "file_extension": ".py",
   "mimetype": "text/x-python",
   "name": "python",
   "nbconvert_exporter": "python",
   "pygments_lexer": "ipython3",
   "version": "3.12.2"
  }
 },
 "nbformat": 4,
 "nbformat_minor": 4
}
