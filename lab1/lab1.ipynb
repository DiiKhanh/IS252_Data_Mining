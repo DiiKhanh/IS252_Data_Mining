{
 "cells": [
  {
   "cell_type": "markdown",
   "id": "c7957c10-b9c7-437d-a9a8-d7633c27a3d7",
   "metadata": {},
   "source": [
    "# Phạm Duy Khánh - 21522211"
   ]
  },
  {
   "cell_type": "markdown",
   "id": "23378c04-ecea-43bb-9183-b3bf33d80bdf",
   "metadata": {},
   "source": [
    "## Import các thư viện numpy, pandas, seaborn và matplotlib"
   ]
  },
  {
   "cell_type": "code",
   "execution_count": 11,
   "id": "d6a9c618-1b31-4043-a5f0-2b209b44f065",
   "metadata": {},
   "outputs": [],
   "source": [
    "# Linear algebra\n",
    "import numpy as np\n",
    "# Data processing\n",
    "import pandas as pd\n",
    "# Data vissualization\n",
    "import seaborn as sns\n",
    "%matplotlib inline\n",
    "from matplotlib import pyplot as plt\n",
    "from matplotlib import style\n",
    "import warnings\n",
    "warnings.filterwarnings('ignore')"
   ]
  },
  {
   "cell_type": "markdown",
   "id": "056e996a-8b89-43ac-b765-697200afc059",
   "metadata": {},
   "source": [
    "### Đọc dữ liệu đầu vào"
   ]
  },
  {
   "cell_type": "code",
   "execution_count": 4,
   "id": "046ad163-3f5d-4627-ace4-d21a26b8b050",
   "metadata": {},
   "outputs": [],
   "source": [
    "with open('titanic.csv') as f:\n",
    "    df = pd.read_csv(f, dtype ={'age':np.float64,'sibsp':np.int64,'parch':np.int64})"
   ]
  },
  {
   "cell_type": "markdown",
   "id": "d592ab0f-3de5-4555-8c81-6d388f031c2e",
   "metadata": {},
   "source": [
    "### Xem xét dữ liệu ban đầu với hàm head() và info()"
   ]
  },
  {
   "cell_type": "code",
   "execution_count": 6,
   "id": "0d696cef-75ca-480d-8dac-6735987bae5c",
   "metadata": {},
   "outputs": [
    {
     "data": {
      "text/html": [
       "<div>\n",
       "<style scoped>\n",
       "    .dataframe tbody tr th:only-of-type {\n",
       "        vertical-align: middle;\n",
       "    }\n",
       "\n",
       "    .dataframe tbody tr th {\n",
       "        vertical-align: top;\n",
       "    }\n",
       "\n",
       "    .dataframe thead th {\n",
       "        text-align: right;\n",
       "    }\n",
       "</style>\n",
       "<table border=\"1\" class=\"dataframe\">\n",
       "  <thead>\n",
       "    <tr style=\"text-align: right;\">\n",
       "      <th></th>\n",
       "      <th>pclass</th>\n",
       "      <th>survived</th>\n",
       "      <th>name</th>\n",
       "      <th>sex</th>\n",
       "      <th>age</th>\n",
       "      <th>sibsp</th>\n",
       "      <th>parch</th>\n",
       "      <th>ticket</th>\n",
       "      <th>fare</th>\n",
       "      <th>cabin</th>\n",
       "      <th>embarked</th>\n",
       "      <th>boat</th>\n",
       "      <th>body</th>\n",
       "      <th>home.dest</th>\n",
       "    </tr>\n",
       "  </thead>\n",
       "  <tbody>\n",
       "    <tr>\n",
       "      <th>0</th>\n",
       "      <td>1</td>\n",
       "      <td>1</td>\n",
       "      <td>Allen, Miss. Elisabeth Walton</td>\n",
       "      <td>female</td>\n",
       "      <td>29.0000</td>\n",
       "      <td>0</td>\n",
       "      <td>0</td>\n",
       "      <td>24160</td>\n",
       "      <td>211.3375</td>\n",
       "      <td>B5</td>\n",
       "      <td>S</td>\n",
       "      <td>2</td>\n",
       "      <td>NaN</td>\n",
       "      <td>St Louis, MO</td>\n",
       "    </tr>\n",
       "    <tr>\n",
       "      <th>1</th>\n",
       "      <td>1</td>\n",
       "      <td>1</td>\n",
       "      <td>Allison, Master. Hudson Trevor</td>\n",
       "      <td>male</td>\n",
       "      <td>0.9167</td>\n",
       "      <td>1</td>\n",
       "      <td>2</td>\n",
       "      <td>113781</td>\n",
       "      <td>151.5500</td>\n",
       "      <td>C22 C26</td>\n",
       "      <td>S</td>\n",
       "      <td>11</td>\n",
       "      <td>NaN</td>\n",
       "      <td>Montreal, PQ / Chesterville, ON</td>\n",
       "    </tr>\n",
       "    <tr>\n",
       "      <th>2</th>\n",
       "      <td>1</td>\n",
       "      <td>0</td>\n",
       "      <td>Allison, Miss. Helen Loraine</td>\n",
       "      <td>female</td>\n",
       "      <td>2.0000</td>\n",
       "      <td>1</td>\n",
       "      <td>2</td>\n",
       "      <td>113781</td>\n",
       "      <td>151.5500</td>\n",
       "      <td>C22 C26</td>\n",
       "      <td>S</td>\n",
       "      <td>NaN</td>\n",
       "      <td>NaN</td>\n",
       "      <td>Montreal, PQ / Chesterville, ON</td>\n",
       "    </tr>\n",
       "    <tr>\n",
       "      <th>3</th>\n",
       "      <td>1</td>\n",
       "      <td>0</td>\n",
       "      <td>Allison, Mr. Hudson Joshua Creighton</td>\n",
       "      <td>male</td>\n",
       "      <td>30.0000</td>\n",
       "      <td>1</td>\n",
       "      <td>2</td>\n",
       "      <td>113781</td>\n",
       "      <td>151.5500</td>\n",
       "      <td>C22 C26</td>\n",
       "      <td>S</td>\n",
       "      <td>NaN</td>\n",
       "      <td>135.0</td>\n",
       "      <td>Montreal, PQ / Chesterville, ON</td>\n",
       "    </tr>\n",
       "    <tr>\n",
       "      <th>4</th>\n",
       "      <td>1</td>\n",
       "      <td>0</td>\n",
       "      <td>Allison, Mrs. Hudson J C (Bessie Waldo Daniels)</td>\n",
       "      <td>female</td>\n",
       "      <td>25.0000</td>\n",
       "      <td>1</td>\n",
       "      <td>2</td>\n",
       "      <td>113781</td>\n",
       "      <td>151.5500</td>\n",
       "      <td>C22 C26</td>\n",
       "      <td>S</td>\n",
       "      <td>NaN</td>\n",
       "      <td>NaN</td>\n",
       "      <td>Montreal, PQ / Chesterville, ON</td>\n",
       "    </tr>\n",
       "    <tr>\n",
       "      <th>5</th>\n",
       "      <td>1</td>\n",
       "      <td>1</td>\n",
       "      <td>Anderson, Mr. Harry</td>\n",
       "      <td>male</td>\n",
       "      <td>48.0000</td>\n",
       "      <td>0</td>\n",
       "      <td>0</td>\n",
       "      <td>19952</td>\n",
       "      <td>26.5500</td>\n",
       "      <td>E12</td>\n",
       "      <td>S</td>\n",
       "      <td>3</td>\n",
       "      <td>NaN</td>\n",
       "      <td>New York, NY</td>\n",
       "    </tr>\n",
       "    <tr>\n",
       "      <th>6</th>\n",
       "      <td>1</td>\n",
       "      <td>1</td>\n",
       "      <td>Andrews, Miss. Kornelia Theodosia</td>\n",
       "      <td>female</td>\n",
       "      <td>63.0000</td>\n",
       "      <td>1</td>\n",
       "      <td>0</td>\n",
       "      <td>13502</td>\n",
       "      <td>77.9583</td>\n",
       "      <td>D7</td>\n",
       "      <td>S</td>\n",
       "      <td>10</td>\n",
       "      <td>NaN</td>\n",
       "      <td>Hudson, NY</td>\n",
       "    </tr>\n",
       "    <tr>\n",
       "      <th>7</th>\n",
       "      <td>1</td>\n",
       "      <td>0</td>\n",
       "      <td>Andrews, Mr. Thomas Jr</td>\n",
       "      <td>male</td>\n",
       "      <td>39.0000</td>\n",
       "      <td>0</td>\n",
       "      <td>0</td>\n",
       "      <td>112050</td>\n",
       "      <td>0.0000</td>\n",
       "      <td>A36</td>\n",
       "      <td>S</td>\n",
       "      <td>NaN</td>\n",
       "      <td>NaN</td>\n",
       "      <td>Belfast, NI</td>\n",
       "    </tr>\n",
       "    <tr>\n",
       "      <th>8</th>\n",
       "      <td>1</td>\n",
       "      <td>1</td>\n",
       "      <td>Appleton, Mrs. Edward Dale (Charlotte Lamson)</td>\n",
       "      <td>female</td>\n",
       "      <td>53.0000</td>\n",
       "      <td>2</td>\n",
       "      <td>0</td>\n",
       "      <td>11769</td>\n",
       "      <td>51.4792</td>\n",
       "      <td>C101</td>\n",
       "      <td>S</td>\n",
       "      <td>D</td>\n",
       "      <td>NaN</td>\n",
       "      <td>Bayside, Queens, NY</td>\n",
       "    </tr>\n",
       "    <tr>\n",
       "      <th>9</th>\n",
       "      <td>1</td>\n",
       "      <td>0</td>\n",
       "      <td>Artagaveytia, Mr. Ramon</td>\n",
       "      <td>male</td>\n",
       "      <td>71.0000</td>\n",
       "      <td>0</td>\n",
       "      <td>0</td>\n",
       "      <td>PC 17609</td>\n",
       "      <td>49.5042</td>\n",
       "      <td>NaN</td>\n",
       "      <td>C</td>\n",
       "      <td>NaN</td>\n",
       "      <td>22.0</td>\n",
       "      <td>Montevideo, Uruguay</td>\n",
       "    </tr>\n",
       "    <tr>\n",
       "      <th>10</th>\n",
       "      <td>1</td>\n",
       "      <td>0</td>\n",
       "      <td>Astor, Col. John Jacob</td>\n",
       "      <td>male</td>\n",
       "      <td>47.0000</td>\n",
       "      <td>1</td>\n",
       "      <td>0</td>\n",
       "      <td>PC 17757</td>\n",
       "      <td>227.5250</td>\n",
       "      <td>C62 C64</td>\n",
       "      <td>C</td>\n",
       "      <td>NaN</td>\n",
       "      <td>124.0</td>\n",
       "      <td>New York, NY</td>\n",
       "    </tr>\n",
       "    <tr>\n",
       "      <th>11</th>\n",
       "      <td>1</td>\n",
       "      <td>1</td>\n",
       "      <td>Astor, Mrs. John Jacob (Madeleine Talmadge Force)</td>\n",
       "      <td>female</td>\n",
       "      <td>18.0000</td>\n",
       "      <td>1</td>\n",
       "      <td>0</td>\n",
       "      <td>PC 17757</td>\n",
       "      <td>227.5250</td>\n",
       "      <td>C62 C64</td>\n",
       "      <td>C</td>\n",
       "      <td>4</td>\n",
       "      <td>NaN</td>\n",
       "      <td>New York, NY</td>\n",
       "    </tr>\n",
       "  </tbody>\n",
       "</table>\n",
       "</div>"
      ],
      "text/plain": [
       "    pclass  survived                                               name  \\\n",
       "0        1         1                      Allen, Miss. Elisabeth Walton   \n",
       "1        1         1                     Allison, Master. Hudson Trevor   \n",
       "2        1         0                       Allison, Miss. Helen Loraine   \n",
       "3        1         0               Allison, Mr. Hudson Joshua Creighton   \n",
       "4        1         0    Allison, Mrs. Hudson J C (Bessie Waldo Daniels)   \n",
       "5        1         1                                Anderson, Mr. Harry   \n",
       "6        1         1                  Andrews, Miss. Kornelia Theodosia   \n",
       "7        1         0                             Andrews, Mr. Thomas Jr   \n",
       "8        1         1      Appleton, Mrs. Edward Dale (Charlotte Lamson)   \n",
       "9        1         0                            Artagaveytia, Mr. Ramon   \n",
       "10       1         0                             Astor, Col. John Jacob   \n",
       "11       1         1  Astor, Mrs. John Jacob (Madeleine Talmadge Force)   \n",
       "\n",
       "       sex      age  sibsp  parch    ticket      fare    cabin embarked boat  \\\n",
       "0   female  29.0000      0      0     24160  211.3375       B5        S    2   \n",
       "1     male   0.9167      1      2    113781  151.5500  C22 C26        S   11   \n",
       "2   female   2.0000      1      2    113781  151.5500  C22 C26        S  NaN   \n",
       "3     male  30.0000      1      2    113781  151.5500  C22 C26        S  NaN   \n",
       "4   female  25.0000      1      2    113781  151.5500  C22 C26        S  NaN   \n",
       "5     male  48.0000      0      0     19952   26.5500      E12        S    3   \n",
       "6   female  63.0000      1      0     13502   77.9583       D7        S   10   \n",
       "7     male  39.0000      0      0    112050    0.0000      A36        S  NaN   \n",
       "8   female  53.0000      2      0     11769   51.4792     C101        S    D   \n",
       "9     male  71.0000      0      0  PC 17609   49.5042      NaN        C  NaN   \n",
       "10    male  47.0000      1      0  PC 17757  227.5250  C62 C64        C  NaN   \n",
       "11  female  18.0000      1      0  PC 17757  227.5250  C62 C64        C    4   \n",
       "\n",
       "     body                        home.dest  \n",
       "0     NaN                     St Louis, MO  \n",
       "1     NaN  Montreal, PQ / Chesterville, ON  \n",
       "2     NaN  Montreal, PQ / Chesterville, ON  \n",
       "3   135.0  Montreal, PQ / Chesterville, ON  \n",
       "4     NaN  Montreal, PQ / Chesterville, ON  \n",
       "5     NaN                     New York, NY  \n",
       "6     NaN                       Hudson, NY  \n",
       "7     NaN                      Belfast, NI  \n",
       "8     NaN              Bayside, Queens, NY  \n",
       "9    22.0              Montevideo, Uruguay  \n",
       "10  124.0                     New York, NY  \n",
       "11    NaN                     New York, NY  "
      ]
     },
     "execution_count": 6,
     "metadata": {},
     "output_type": "execute_result"
    }
   ],
   "source": [
    "df.head(12)"
   ]
  },
  {
   "cell_type": "code",
   "execution_count": 7,
   "id": "bbcd5256-f540-438d-9e60-4697f4111133",
   "metadata": {},
   "outputs": [
    {
     "name": "stdout",
     "output_type": "stream",
     "text": [
      "<class 'pandas.core.frame.DataFrame'>\n",
      "RangeIndex: 1309 entries, 0 to 1308\n",
      "Data columns (total 14 columns):\n",
      " #   Column     Non-Null Count  Dtype  \n",
      "---  ------     --------------  -----  \n",
      " 0   pclass     1309 non-null   int64  \n",
      " 1   survived   1309 non-null   int64  \n",
      " 2   name       1309 non-null   object \n",
      " 3   sex        1309 non-null   object \n",
      " 4   age        1046 non-null   float64\n",
      " 5   sibsp      1309 non-null   int64  \n",
      " 6   parch      1309 non-null   int64  \n",
      " 7   ticket     1309 non-null   object \n",
      " 8   fare       1308 non-null   float64\n",
      " 9   cabin      295 non-null    object \n",
      " 10  embarked   1307 non-null   object \n",
      " 11  boat       486 non-null    object \n",
      " 12  body       121 non-null    float64\n",
      " 13  home.dest  745 non-null    object \n",
      "dtypes: float64(3), int64(4), object(7)\n",
      "memory usage: 143.3+ KB\n"
     ]
    }
   ],
   "source": [
    "df.info()"
   ]
  },
  {
   "cell_type": "markdown",
   "id": "82a7982d-a681-40ff-9115-fc544cf958e8",
   "metadata": {},
   "source": [
    "### Thống kê chỉ số của các thuộc tính định lượng như: đếm số giá trị, giá trị lớn nhất, giá trị nhỏ nhất, trung bình, độ lệch chuẩn, tứ phân vị"
   ]
  },
  {
   "cell_type": "code",
   "execution_count": 8,
   "id": "e88fcfc6-d463-4b1e-8ed4-add7d5492017",
   "metadata": {},
   "outputs": [
    {
     "data": {
      "text/html": [
       "<div>\n",
       "<style scoped>\n",
       "    .dataframe tbody tr th:only-of-type {\n",
       "        vertical-align: middle;\n",
       "    }\n",
       "\n",
       "    .dataframe tbody tr th {\n",
       "        vertical-align: top;\n",
       "    }\n",
       "\n",
       "    .dataframe thead th {\n",
       "        text-align: right;\n",
       "    }\n",
       "</style>\n",
       "<table border=\"1\" class=\"dataframe\">\n",
       "  <thead>\n",
       "    <tr style=\"text-align: right;\">\n",
       "      <th></th>\n",
       "      <th>pclass</th>\n",
       "      <th>survived</th>\n",
       "      <th>age</th>\n",
       "      <th>sibsp</th>\n",
       "      <th>parch</th>\n",
       "      <th>fare</th>\n",
       "      <th>body</th>\n",
       "    </tr>\n",
       "  </thead>\n",
       "  <tbody>\n",
       "    <tr>\n",
       "      <th>count</th>\n",
       "      <td>1309.000000</td>\n",
       "      <td>1309.000000</td>\n",
       "      <td>1046.000000</td>\n",
       "      <td>1309.000000</td>\n",
       "      <td>1309.000000</td>\n",
       "      <td>1308.000000</td>\n",
       "      <td>121.000000</td>\n",
       "    </tr>\n",
       "    <tr>\n",
       "      <th>mean</th>\n",
       "      <td>2.294882</td>\n",
       "      <td>0.381971</td>\n",
       "      <td>29.881135</td>\n",
       "      <td>0.498854</td>\n",
       "      <td>0.385027</td>\n",
       "      <td>33.295479</td>\n",
       "      <td>160.809917</td>\n",
       "    </tr>\n",
       "    <tr>\n",
       "      <th>std</th>\n",
       "      <td>0.837836</td>\n",
       "      <td>0.486055</td>\n",
       "      <td>14.413500</td>\n",
       "      <td>1.041658</td>\n",
       "      <td>0.865560</td>\n",
       "      <td>51.758668</td>\n",
       "      <td>97.696922</td>\n",
       "    </tr>\n",
       "    <tr>\n",
       "      <th>min</th>\n",
       "      <td>1.000000</td>\n",
       "      <td>0.000000</td>\n",
       "      <td>0.166700</td>\n",
       "      <td>0.000000</td>\n",
       "      <td>0.000000</td>\n",
       "      <td>0.000000</td>\n",
       "      <td>1.000000</td>\n",
       "    </tr>\n",
       "    <tr>\n",
       "      <th>25%</th>\n",
       "      <td>2.000000</td>\n",
       "      <td>0.000000</td>\n",
       "      <td>21.000000</td>\n",
       "      <td>0.000000</td>\n",
       "      <td>0.000000</td>\n",
       "      <td>7.895800</td>\n",
       "      <td>72.000000</td>\n",
       "    </tr>\n",
       "    <tr>\n",
       "      <th>50%</th>\n",
       "      <td>3.000000</td>\n",
       "      <td>0.000000</td>\n",
       "      <td>28.000000</td>\n",
       "      <td>0.000000</td>\n",
       "      <td>0.000000</td>\n",
       "      <td>14.454200</td>\n",
       "      <td>155.000000</td>\n",
       "    </tr>\n",
       "    <tr>\n",
       "      <th>75%</th>\n",
       "      <td>3.000000</td>\n",
       "      <td>1.000000</td>\n",
       "      <td>39.000000</td>\n",
       "      <td>1.000000</td>\n",
       "      <td>0.000000</td>\n",
       "      <td>31.275000</td>\n",
       "      <td>256.000000</td>\n",
       "    </tr>\n",
       "    <tr>\n",
       "      <th>max</th>\n",
       "      <td>3.000000</td>\n",
       "      <td>1.000000</td>\n",
       "      <td>80.000000</td>\n",
       "      <td>8.000000</td>\n",
       "      <td>9.000000</td>\n",
       "      <td>512.329200</td>\n",
       "      <td>328.000000</td>\n",
       "    </tr>\n",
       "  </tbody>\n",
       "</table>\n",
       "</div>"
      ],
      "text/plain": [
       "            pclass     survived          age        sibsp        parch  \\\n",
       "count  1309.000000  1309.000000  1046.000000  1309.000000  1309.000000   \n",
       "mean      2.294882     0.381971    29.881135     0.498854     0.385027   \n",
       "std       0.837836     0.486055    14.413500     1.041658     0.865560   \n",
       "min       1.000000     0.000000     0.166700     0.000000     0.000000   \n",
       "25%       2.000000     0.000000    21.000000     0.000000     0.000000   \n",
       "50%       3.000000     0.000000    28.000000     0.000000     0.000000   \n",
       "75%       3.000000     1.000000    39.000000     1.000000     0.000000   \n",
       "max       3.000000     1.000000    80.000000     8.000000     9.000000   \n",
       "\n",
       "              fare        body  \n",
       "count  1308.000000  121.000000  \n",
       "mean     33.295479  160.809917  \n",
       "std      51.758668   97.696922  \n",
       "min       0.000000    1.000000  \n",
       "25%       7.895800   72.000000  \n",
       "50%      14.454200  155.000000  \n",
       "75%      31.275000  256.000000  \n",
       "max     512.329200  328.000000  "
      ]
     },
     "execution_count": 8,
     "metadata": {},
     "output_type": "execute_result"
    }
   ],
   "source": [
    "df.describe()"
   ]
  },
  {
   "cell_type": "markdown",
   "id": "0234b221-b869-4d10-ae4d-83893aeb573e",
   "metadata": {},
   "source": [
    "### Lấy ra 5 thuộc tính có số lượng giá trị rộng nhiều nhất"
   ]
  },
  {
   "cell_type": "code",
   "execution_count": 9,
   "id": "12cf6975-1751-4b9c-a516-346d6eec2b08",
   "metadata": {},
   "outputs": [
    {
     "data": {
      "text/html": [
       "<div>\n",
       "<style scoped>\n",
       "    .dataframe tbody tr th:only-of-type {\n",
       "        vertical-align: middle;\n",
       "    }\n",
       "\n",
       "    .dataframe tbody tr th {\n",
       "        vertical-align: top;\n",
       "    }\n",
       "\n",
       "    .dataframe thead th {\n",
       "        text-align: right;\n",
       "    }\n",
       "</style>\n",
       "<table border=\"1\" class=\"dataframe\">\n",
       "  <thead>\n",
       "    <tr style=\"text-align: right;\">\n",
       "      <th></th>\n",
       "      <th>Total</th>\n",
       "      <th>%</th>\n",
       "    </tr>\n",
       "  </thead>\n",
       "  <tbody>\n",
       "    <tr>\n",
       "      <th>body</th>\n",
       "      <td>1188</td>\n",
       "      <td>90.8</td>\n",
       "    </tr>\n",
       "    <tr>\n",
       "      <th>cabin</th>\n",
       "      <td>1014</td>\n",
       "      <td>77.5</td>\n",
       "    </tr>\n",
       "    <tr>\n",
       "      <th>boat</th>\n",
       "      <td>823</td>\n",
       "      <td>62.9</td>\n",
       "    </tr>\n",
       "    <tr>\n",
       "      <th>home.dest</th>\n",
       "      <td>564</td>\n",
       "      <td>43.1</td>\n",
       "    </tr>\n",
       "    <tr>\n",
       "      <th>age</th>\n",
       "      <td>263</td>\n",
       "      <td>20.1</td>\n",
       "    </tr>\n",
       "  </tbody>\n",
       "</table>\n",
       "</div>"
      ],
      "text/plain": [
       "           Total     %\n",
       "body        1188  90.8\n",
       "cabin       1014  77.5\n",
       "boat         823  62.9\n",
       "home.dest    564  43.1\n",
       "age          263  20.1"
      ]
     },
     "execution_count": 9,
     "metadata": {},
     "output_type": "execute_result"
    }
   ],
   "source": [
    "total = df.isnull().sum().sort_values(ascending=False) #Tìm trong dữ liệu giá null, tính tổng chúng lại, sắp xếp theo tăng dần  = False tức là sắp giảm\n",
    "percent_1=df.isnull().sum()/df.isnull().count()*100 #Tổng giá trị null của một cột/ số dòng của cột null đó \n",
    "percent_2 = (round(percent_1,1)).sort_values(ascending = False) #Làm tròn 1 chữ số và sort giảm dần\n",
    "missing_data = pd.concat([total,percent_2],axis=1,keys=['Total','%'])\n",
    "missing_data.head(5)"
   ]
  },
  {
   "cell_type": "markdown",
   "id": "9134d442-5f66-41a5-aba3-933d72e93ac0",
   "metadata": {},
   "source": [
    "Có thể nhận thấy thuộc tính body hiện đang thiếu dữ liệu rất nghiêm trọng (90.8%), điều này sẽ gây ảnh hưởng lớn nếu sử dụng thuộc tính này trong quá trình khai thác."
   ]
  },
  {
   "cell_type": "markdown",
   "id": "70c6ee73-f233-45f1-a62f-454c60f581ea",
   "metadata": {},
   "source": [
    "### Xem xét thống kê giữa thuộc tính Độ tuổi (age), Giới tính (sex) và khả năng sống sót (survived)"
   ]
  },
  {
   "cell_type": "code",
   "execution_count": 12,
   "id": "a17c8420-886e-43c6-ba60-f18dfab682b3",
   "metadata": {},
   "outputs": [
    {
     "data": {
      "image/png": "[encoded data removed]",
      "text/plain": [
       "<Figure size 1000x400 with 2 Axes>"
      ]
     },
     "metadata": {},
     "output_type": "display_data"
    }
   ],
   "source": [
    "survived = 'survided'\n",
    "not_survived ='not survided'\n",
    "fig, axes = plt.subplots(nrows = 1,ncols =2,figsize = (10,4))\n",
    "women = df[df['sex']=='female']\n",
    "men = df[df['sex']=='male']\n",
    "ax = sns.distplot(women[women['survived']==1].age.dropna(), bins = 18,label =survived, ax =axes[0],kde = False)\n",
    "ax = sns.distplot(women[women['survived']==0].age.dropna(), bins = 40,label =not_survived, ax =axes[0],kde = False)\n",
    "ax.legend()\n",
    "ax.set_title('Female')\n",
    "ax = sns.distplot(men[men['survived']==1].age.dropna(), bins = 18,label =survived, ax =axes[1],kde = False)\n",
    "ax = sns.distplot(men[men['survived']==0].age.dropna(), bins = 40,label =not_survived, ax =axes[1],kde = False)\n",
    "ax.legend()\n",
    "_=ax.set_title('Male')"
   ]
  },
  {
   "cell_type": "markdown",
   "id": "b3387801-292c-4639-9b39-1df1a9bcefb3",
   "metadata": {},
   "source": [
    "Từ biểu đồ trên có thể rút ra vài nhận xét như sau:\n",
    "\r\n",
    "Xác suất nam sống sót cao ở tuổi từ 1 đến 10\r\n",
    "Cơ hội sống sót của nữ cao hơn từ 12 đến 40 tuổi\r\n",
    "Xác suất nam không sống sót cao nhất ở độ tuổi từ 18 đến 27\r\n",
    "Nhìn chung tỷ lệ sống sót của nữ ở các lứa tuổi đều có phần nhỉnh hơn nam"
   ]
  },
  {
   "cell_type": "code",
   "execution_count": 13,
   "id": "fa1b87c2-4283-49af-b24c-6a0c63d74aea",
   "metadata": {},
   "outputs": [
    {
     "data": {
      "text/plain": [
       "<seaborn.axisgrid.FacetGrid at 0x19e55217e30>"
      ]
     },
     "execution_count": 13,
     "metadata": {},
     "output_type": "execute_result"
    },
    {
     "data": {
      "image/png": "[encoded data removed]",
      "text/plain": [
       "<Figure size 818x1350 with 3 Axes>"
      ]
     },
     "metadata": {},
     "output_type": "display_data"
    }
   ],
   "source": [
    "FacetGrid = sns.FacetGrid(df,row='embarked',height =4.5, aspect =1.6)\n",
    "FacetGrid.map(sns.pointplot,'pclass','survived','sex',palette = None, order =None, hue_order = None)\n",
    "FacetGrid.add_legend()"
   ]
  },
  {
   "cell_type": "markdown",
   "id": "ed888e99-1d30-43a0-85d9-47b69c57f3d4",
   "metadata": {},
   "source": [
    "Từ biểu đồ trên có thể thấy được, thuộc tính Cổng lên tàu có thể liên quan đến khả năng sống sót và phụ thuộc vào giới tính\n",
    "\n",
    "Phụ nữ lên tàu ở cổng Q và cổng S có cơ hội sống cao hơn và ngược lại, lên tàu ở cổng C phụ nữ có tỉ lệ chết cao hơn.\n",
    "\n",
    "Đồng nghĩa với tỉ lệ sống sót của đàn ông lên tàu ở cổng C cao hơn so với cổng Q và S.\n",
    "\n",
    "Loại vé cũng có thể liên quan đến tỉ lệ sống sót, vì thế, tiếp tục tìm hiểu kỹ hơn về sự phụ thuộc giữa thuộc tính này với thuộc tính quyết định."
   ]
  },
  {
   "cell_type": "code",
   "execution_count": 14,
   "id": "96446837-8456-49ae-88ee-8b2ed4d696b5",
   "metadata": {},
   "outputs": [
    {
     "data": {
      "text/plain": [
       "<Axes: xlabel='pclass', ylabel='survived'>"
      ]
     },
     "execution_count": 14,
     "metadata": {},
     "output_type": "execute_result"
    },
    {
     "data": {
      "image/png": "[encoded data removed]",
      "text/plain": [
       "<Figure size 640x480 with 1 Axes>"
      ]
     },
     "metadata": {},
     "output_type": "display_data"
    }
   ],
   "source": [
    "sns.barplot(x='pclass',y='survived',data=df)"
   ]
  },
  {
   "cell_type": "markdown",
   "id": "b12fc6be-18d6-4a9c-a6d7-56a03d1bb035",
   "metadata": {},
   "source": [
    "Từ biểu đồ này có thể thấy được rõ ràng tỷ lệ sống sót của loại vé 1 là cao nhất."
   ]
  },
  {
   "cell_type": "code",
   "execution_count": 15,
   "id": "19f230c8-669d-405f-908e-59fddedbcaf9",
   "metadata": {},
   "outputs": [
    {
     "data": {
      "text/plain": [
       "<seaborn.axisgrid.FacetGrid at 0x19e55214c80>"
      ]
     },
     "execution_count": 15,
     "metadata": {},
     "output_type": "execute_result"
    },
    {
     "data": {
      "image/png": "[encoded data removed]",
      "text/plain": [
       "<Figure size 1355.11x1260 with 6 Axes>"
      ]
     },
     "metadata": {},
     "output_type": "display_data"
    }
   ],
   "source": [
    "grid = sns.FacetGrid(df,col='survived',row = 'pclass', height =4.2,aspect=1.6)\n",
    "grid.map(plt.hist,'age',alpha=.5,bins=20)\n",
    "grid.add_legend()"
   ]
  },
  {
   "cell_type": "markdown",
   "id": "24d747ef-99f0-4856-9f51-8ac45fa711c7",
   "metadata": {},
   "source": [
    "Từ đồ thị trên có thể xác nhận nhận định bên trên về loại vé 1, và có thể đưa ra thêm nhận định những người có loại vé 3 thì có tỷ lệ không sống sót lớn."
   ]
  },
  {
   "cell_type": "markdown",
   "id": "eaa26706-0c15-429d-a92c-5103ba3a6aaf",
   "metadata": {},
   "source": [
    "### Thống kê số người đi cùng (anh chị em/vợ chồng hoặc cha mẹ/con cái)"
   ]
  },
  {
   "cell_type": "code",
   "execution_count": 16,
   "id": "4aa5f0f5-b905-4eb7-8299-dfc04b1c94ce",
   "metadata": {},
   "outputs": [
    {
     "data": {
      "text/plain": [
       "not_alone\n",
       "1    790\n",
       "0    519\n",
       "Name: count, dtype: int64"
      ]
     },
     "execution_count": 16,
     "metadata": {},
     "output_type": "execute_result"
    }
   ],
   "source": [
    "for dataset in [df]:\n",
    "    dataset['relatives']= dataset['sibsp']+dataset['parch']\n",
    "    dataset.loc[dataset['relatives']>0,'not_alone']=0\n",
    "    dataset.loc[dataset['relatives']==0,'not_alone']=1\n",
    "    dataset['not_alone']= dataset['not_alone'].astype(int)\n",
    "df['not_alone'].value_counts()"
   ]
  },
  {
   "cell_type": "markdown",
   "id": "dfc316c8-4fa6-4ae5-b1d6-b4f5b6bd98cd",
   "metadata": {},
   "source": [
    "Số người đi một mình là 790 người\r\n",
    "Số người đi cùng người thân là 519 người\r\n",
    "Vẽ biểu đồ biểu diễn mối quan hệ giữa số người đi cùng và khả năng sống sótnts()"
   ]
  },
  {
   "cell_type": "code",
   "execution_count": 18,
   "id": "81cd308d-a40a-429d-b8f2-ab60a242332a",
   "metadata": {},
   "outputs": [
    {
     "data": {
      "image/png": "[encoded data removed]",
      "text/plain": [
       "<Figure size 1250x500 with 1 Axes>"
      ]
     },
     "metadata": {},
     "output_type": "display_data"
    }
   ],
   "source": [
    "axes = sns.catplot(x='relatives',y='survived',data=df,aspect=2.5,kind='point',)"
   ]
  },
  {
   "cell_type": "markdown",
   "id": "906518be-e2d5-46c2-8b56-8b3c7f272740",
   "metadata": {},
   "source": [
    "Sơ đồ trên cho ta thấy, những người có 1 đến 3 người thân đi cùng có tỉ lệ sống sót cao hơn. Những người có 7 đến 10 người thân đi cùng thì có tỉ lệ sống thấp nhất."
   ]
  },
  {
   "cell_type": "markdown",
   "id": "1dc844ab-ef94-495e-bb0c-f67b6ea96bd8",
   "metadata": {},
   "source": [
    "### Tiền xử lý dữ liệu\n",
    "Đầu tiên, tiến hành xem xét các thuộc tính thiếu sót nhiều giá trị. Có thể xóa đi các thuộc tính body, cabin, boat, home.dest vì không có ảnh hưởng nhiều đến sự tồn tại của hành khách. Tuy nhiên, mỗi giá trị của thuộc tính cabin ví dụ như ‘C123’ có các ký tự đầu ‘C’ là boong mà hành khách đó đang đi. Dữ liệu này có thể hữu ích nên có thể tách ra, giữ lại trước khi xóa."
   ]
  },
  {
   "cell_type": "code",
   "execution_count": 19,
   "id": "c0e45660-a0fe-4293-bc2f-40f1983bde8b",
   "metadata": {},
   "outputs": [],
   "source": [
    "import re\n",
    "\n",
    "deck = {\"A\":1,\"B\":2,\"C\":3,\"D\":4,\"E\":5,\"F\":6,\"G\":7,\"U\":8}\n",
    "\n",
    "for dataset in [df]:\n",
    "    dataset['cabin']= dataset['cabin'].fillna(\"U0\") #Điền \"U0\" vào những ô trống\n",
    "    dataset['deck'] = dataset['cabin'].map(lambda x: re.compile(\"([a-zA-Z])+\").search(x).group())\n",
    "    dataset['deck'] = dataset['deck'].map(deck)\n",
    "    dataset['deck'] = dataset['deck'].fillna(0)\n",
    "    dataset['deck'] = dataset['deck'].astype(int) #đổi kiểu dữ liệu int\n",
    "#drop cabin\n",
    "df = df.drop(['cabin'],axis =1)"
   ]
  },
  {
   "cell_type": "markdown",
   "id": "17c99cc4-68c1-4281-b741-9b4de4018583",
   "metadata": {},
   "source": [
    "Xem xét thuộc tính ticket"
   ]
  },
  {
   "cell_type": "code",
   "execution_count": 20,
   "id": "acc144a6-9530-4005-94ff-118724021c88",
   "metadata": {},
   "outputs": [
    {
     "data": {
      "text/plain": [
       "count         1309\n",
       "unique         929\n",
       "top       CA. 2343\n",
       "freq            11\n",
       "Name: ticket, dtype: object"
      ]
     },
     "execution_count": 20,
     "metadata": {},
     "output_type": "execute_result"
    }
   ],
   "source": [
    "df['ticket'].describe()"
   ]
  },
  {
   "cell_type": "markdown",
   "id": "3813d0dc-6ce1-4506-87ef-a4bc088ce23a",
   "metadata": {},
   "source": [
    "Có thể thấy thuộc tính ticket có đến 929 giá trị khác nhau, có khả năng thuộc tính này sẽ không giúp ích được trong quá trình khai thác, ngược lại còn gây sai số cho thuật toán nên có thể xóa nó đi.\r\n",
    "\r\n",
    "Thực hiện xóa các thuộc tính không cần thiết."
   ]
  },
  {
   "cell_type": "code",
   "execution_count": 21,
   "id": "b49336f5-7e63-4668-abde-95a187328a89",
   "metadata": {},
   "outputs": [],
   "source": [
    "df=df.drop(['ticket'],axis=1)\n",
    "df= df.drop(['boat'],axis=1)\n",
    "df=df.drop(['body'],axis=1)\n",
    "df=df.drop(['home.dest'],axis=1)"
   ]
  },
  {
   "cell_type": "markdown",
   "id": "c8261b28-f334-4fec-adad-e9780c4bb294",
   "metadata": {},
   "source": [
    "Điền giá trị còn thiếu vào thuộc tính tuổi (age).\r\n",
    "Các giá trị này sẽ được sinh ngẫu nhiên dựa vào giá trị trung bình, độ lệch chuẩn và số các giá trị còn thiếu."
   ]
  },
  {
   "cell_type": "code",
   "execution_count": 22,
   "id": "8e670e89-246b-433d-9826-7a37bf56ce60",
   "metadata": {},
   "outputs": [
    {
     "data": {
      "text/plain": [
       "0"
      ]
     },
     "execution_count": 22,
     "metadata": {},
     "output_type": "execute_result"
    }
   ],
   "source": [
    "for dataset in [df]:\n",
    "    #Tính trung bình tuổi\n",
    "    mean = df[\"age\"].mean() \n",
    "    #Tính độ lệch chuẩn tuổi\n",
    "    std = df[\"age\"].std() \n",
    "    is_null = dataset[\"age\"].isnull().sum()\n",
    "    rand_age = np.random.randint(mean-std,mean+std,size=is_null)\n",
    "    #Điền giá trị NAN vào cột tuổi với các giá trị ngẫu nhiên\n",
    "    age_slice  = dataset[\"age\"].copy()\n",
    "    age_slice[np.isnan(age_slice)]= rand_age\n",
    "    dataset[\"age\"]=age_slice\n",
    "    dataset[\"age\"]=df[\"age\"].astype(int)\n",
    "df[\"age\"].isnull().sum() "
   ]
  },
  {
   "cell_type": "markdown",
   "id": "fb67a335-92c1-4372-ba87-8e146242c8e7",
   "metadata": {},
   "source": [
    "Điền giá trị còn thiếu vào thuộc tính Cổng lên tàu (embarked)\r\n",
    "Xem xét thông tin về thuộc tính này"
   ]
  },
  {
   "cell_type": "code",
   "execution_count": 23,
   "id": "f70cc266-8d0d-4b6b-8f94-f63d6c79a22d",
   "metadata": {},
   "outputs": [
    {
     "data": {
      "text/plain": [
       "count     1307\n",
       "unique       3\n",
       "top          S\n",
       "freq       914\n",
       "Name: embarked, dtype: object"
      ]
     },
     "execution_count": 23,
     "metadata": {},
     "output_type": "execute_result"
    }
   ],
   "source": [
    "df['embarked'].describe()"
   ]
  },
  {
   "cell_type": "markdown",
   "id": "32c9f3e7-f084-45cc-a1a0-35f014c5b897",
   "metadata": {},
   "source": [
    "Ta thấy, giá trị ‘S’ là phổ biến nhất, nên có thể chọn nó đề điền vào các vị trí còn trống."
   ]
  },
  {
   "cell_type": "code",
   "execution_count": 24,
   "id": "883443e3-7599-44f4-bc80-08d94a602ba4",
   "metadata": {},
   "outputs": [],
   "source": [
    "common_value='S'\n",
    "\n",
    "for dataset in [df]:\n",
    "    dataset['embarked'] = dataset['embarked'].fillna(common_value)"
   ]
  },
  {
   "cell_type": "markdown",
   "id": "139df19d-796c-425d-bcb7-23acebe035d8",
   "metadata": {},
   "source": [
    "### Xem lại các thuộc tính"
   ]
  },
  {
   "cell_type": "code",
   "execution_count": 25,
   "id": "09eae978-63ef-4fa1-a4ee-978764eec347",
   "metadata": {},
   "outputs": [
    {
     "name": "stdout",
     "output_type": "stream",
     "text": [
      "<class 'pandas.core.frame.DataFrame'>\n",
      "RangeIndex: 1309 entries, 0 to 1308\n",
      "Data columns (total 12 columns):\n",
      " #   Column     Non-Null Count  Dtype  \n",
      "---  ------     --------------  -----  \n",
      " 0   pclass     1309 non-null   int64  \n",
      " 1   survived   1309 non-null   int64  \n",
      " 2   name       1309 non-null   object \n",
      " 3   sex        1309 non-null   object \n",
      " 4   age        1309 non-null   int32  \n",
      " 5   sibsp      1309 non-null   int64  \n",
      " 6   parch      1309 non-null   int64  \n",
      " 7   fare       1308 non-null   float64\n",
      " 8   embarked   1309 non-null   object \n",
      " 9   relatives  1309 non-null   int64  \n",
      " 10  not_alone  1309 non-null   int32  \n",
      " 11  deck       1309 non-null   int32  \n",
      "dtypes: float64(1), int32(3), int64(5), object(3)\n",
      "memory usage: 107.5+ KB\n"
     ]
    }
   ],
   "source": [
    "df.info()"
   ]
  },
  {
   "cell_type": "markdown",
   "id": "f0acd259-5dcd-4e73-bf7b-5538c4cf179c",
   "metadata": {},
   "source": [
    "Có thể thấy, thuộc tính giá vé (fare) có các giá trị nguyên nhưng đang có kiểu dữ liệu là float nên có thể chuyển đổi về kiểu nguyên. Ngoài ra, có thể xử lý các thuộc tính Tên (name), Giới tính (sex), Cổng lên tàu (Embarked).\r\n",
    "Đối với thuộc tính giá vé"
   ]
  },
  {
   "cell_type": "code",
   "execution_count": 26,
   "id": "4f2b697e-6799-4bd9-bbb9-f30e7b7aa372",
   "metadata": {},
   "outputs": [],
   "source": [
    "for dataset in [df]:\n",
    "    dataset['fare']=dataset['fare'].fillna(0)\n",
    "    dataset['fare']=dataset['fare'].astype(int)"
   ]
  },
  {
   "cell_type": "markdown",
   "id": "4a7d1e7b-be71-41e3-8cb2-2be74ccb09b9",
   "metadata": {},
   "source": [
    "Đối với thuộc tính tên (name), có thể sẽ trích xuất danh hiệu (title) từ thuộc tính này để xây dựng thuộc tính mới."
   ]
  },
  {
   "cell_type": "code",
   "execution_count": 27,
   "id": "f132cc86-3b49-4320-802d-a1cfe1f9f21d",
   "metadata": {},
   "outputs": [],
   "source": [
    "titles ={\"Mr\":1, \"Miss\":2, \"Mrs\":3, \"Master\":4,\"Rare\":5}\n",
    "\n",
    "for dataset in [df]:\n",
    "    dataset['title'] = dataset.name.str.extract('([A-Za-z]+)\\.',expand=False)\n",
    "    dataset['title'] = dataset['title'].replace(['Lady','Countess','Capt','Col','Don','Dr',\\\n",
    "                                                'Major','Rev','Sir','Jonkheer','Done'],'Rare')\n",
    "    dataset['title'] = dataset['title'].replace('Mlle','Miss')\n",
    "    dataset['title'] = dataset['title'].replace('Ms','Miss')\n",
    "    dataset['title'] = dataset['title'].replace('Mme','Mrs')\n",
    "    #convert\n",
    "    dataset['title']=dataset['title'].map(titles)\n",
    "    #filling NaNy with 0\n",
    "    dataset['title']=dataset['title'].fillna(0)\n",
    "df =df.drop(['name'],axis=1)"
   ]
  },
  {
   "cell_type": "markdown",
   "id": "abe39e9d-7228-45ad-84c5-9df91180d92c",
   "metadata": {},
   "source": [
    "Biểu diễn thuộc tính giới tính (sex) thành các giá trị 0 (nam), 1 (nữ)"
   ]
  },
  {
   "cell_type": "code",
   "execution_count": 28,
   "id": "ef6ef2f0-2b64-4665-a33a-9d234bdc010c",
   "metadata": {},
   "outputs": [],
   "source": [
    "genders ={\"male\":0,\"female\":1}\n",
    "\n",
    "for dataset in [df]:\n",
    "    dataset['sex']=dataset['sex'].map(genders)"
   ]
  },
  {
   "cell_type": "markdown",
   "id": "4ba7f035-2702-4cbc-af15-138dfca402f1",
   "metadata": {},
   "source": [
    "Chuyển đổi thuộc tính cổng lên tàu (embarked) thành số"
   ]
  },
  {
   "cell_type": "code",
   "execution_count": 29,
   "id": "b2e80780-5e12-40d0-bd24-9260706c6041",
   "metadata": {},
   "outputs": [],
   "source": [
    "ports = {\"S\":0,\"C\":1,\"Q\":2}\n",
    "\n",
    "for dataset in [df]:\n",
    "    dataset['embarked']= dataset['embarked'].map(ports)"
   ]
  },
  {
   "cell_type": "markdown",
   "id": "716d29e3-485e-48a9-aa7e-7dfed885324c",
   "metadata": {},
   "source": [
    "Chuyển đổi thuộc tính tuổi (age) về kiểu số nguyên và tạo ra các nhóm tuổi chia giá trị tuổi thành 8 nhóm nhỏ có số lượng hành khách tương đối đều nhau:\n",
    "\r\n",
    "Nhóm 1: dưới 11 tuổi\r\n",
    "Nhóm 2: trên 11 tuổi đến 18 tuổi\r\n",
    "Nhóm 3: trên 18 tuổi đến 22 tuổi\r\n",
    "Nhóm 4: trên 22 tuổi đến 27 tuổi\r\n",
    "Nhóm 5: trên 27 tuổi đến 33 tuổi\r\n",
    "Nhóm 6: trên 33 tuổi đến 40 tuổi\r\n",
    "Nhóm 7: trên 40 tuổi đến 66 tuổi\r\n",
    "Nhóm 8: trên 66 tuổi"
   ]
  },
  {
   "cell_type": "code",
   "execution_count": 30,
   "id": "62b20ae6-4370-4a99-bf3d-cba46677d729",
   "metadata": {},
   "outputs": [],
   "source": [
    "for dataset in [df]:\n",
    "    dataset['age']=dataset['age'].astype(int)\n",
    "    dataset.loc[dataset['age']<=11,'age']=0\n",
    "    dataset.loc[(dataset['age']>11) & (dataset['age']<=18),'age']=1\n",
    "    dataset.loc[(dataset['age']>18) & (dataset['age']<=22),'age']=2\n",
    "    dataset.loc[(dataset['age']>22) & (dataset['age']<=27),'age']=3\n",
    "    dataset.loc[(dataset['age']>27) & (dataset['age']<=33),'age']=4\n",
    "    dataset.loc[(dataset['age']>33) & (dataset['age']<=40),'age']=5\n",
    "    dataset.loc[(dataset['age']>40) & (dataset['age']<=66),'age']=6\n",
    "    dataset.loc[dataset['age']>66,'age']=7"
   ]
  },
  {
   "cell_type": "markdown",
   "id": "1d4fd6a3-2f41-4168-801c-db2a6cc92281",
   "metadata": {},
   "source": [
    "Kiểm tra kết quả đạt được"
   ]
  },
  {
   "cell_type": "code",
   "execution_count": 31,
   "id": "57b440eb-85bd-40d8-a9c8-0f067aba8ccb",
   "metadata": {},
   "outputs": [
    {
     "data": {
      "text/plain": [
       "age\n",
       "6    253\n",
       "4    238\n",
       "3    211\n",
       "5    199\n",
       "2    172\n",
       "1    136\n",
       "0     91\n",
       "7      9\n",
       "Name: count, dtype: int64"
      ]
     },
     "execution_count": 31,
     "metadata": {},
     "output_type": "execute_result"
    }
   ],
   "source": [
    "df['age'].value_counts()"
   ]
  },
  {
   "cell_type": "markdown",
   "id": "97bcf272-da88-4ce8-804f-e032356f6abd",
   "metadata": {},
   "source": [
    "Đối với thuộc tính giá vé (fare), có thể làm tương tự như đối với thuộc tính tuổi (age). Tuy nhiên, để tránh tình trạng số lượng hành khách tập trung quá nhiều vào một nhóm nào đó, có thể sử dụng hàm qcut() của thư viện sklearn."
   ]
  },
  {
   "cell_type": "code",
   "execution_count": 32,
   "id": "8272eab3-52dc-4f80-b5fa-9ff14b34dfa2",
   "metadata": {},
   "outputs": [],
   "source": [
    "for dataset in [df]:\n",
    "    dataset.loc[dataset['fare']<=7.91,'fare']=0\n",
    "    dataset.loc[(dataset['fare']>7.91) & (dataset['fare']<=14.454),'fare']=1\n",
    "    dataset.loc[(dataset['fare']>14.454) & (dataset['fare']<=31),'fare']=2\n",
    "    dataset.loc[(dataset['fare']>31) & (dataset['fare']<=99),'fare']=3\n",
    "    dataset.loc[(dataset['fare']>99) & (dataset['fare']<=250),'fare']=4\n",
    "    dataset.loc[dataset['fare']>250,'fare']=5\n",
    "    dataset['fare']=dataset['fare'].astype(int)"
   ]
  },
  {
   "cell_type": "markdown",
   "id": "eb29ac9a-14d0-4843-8858-9712330638f3",
   "metadata": {},
   "source": [
    "### Tạo thuộc tính tuổi * loại vé (age_class)"
   ]
  },
  {
   "cell_type": "code",
   "execution_count": 33,
   "id": "ea6021a4-36eb-4f88-a96e-8e07f3ad1607",
   "metadata": {},
   "outputs": [],
   "source": [
    "for dataset in [df]:\n",
    "    dataset['age_class']= dataset['age']*dataset['pclass']"
   ]
  },
  {
   "cell_type": "markdown",
   "id": "c549dcea-5520-44c1-a4ba-2bdb7d1d590f",
   "metadata": {},
   "source": [
    "Tạo thuộc tính giá vé trên mỗi người (fare_per_person)"
   ]
  },
  {
   "cell_type": "code",
   "execution_count": 34,
   "id": "b7fde078-0cf3-410c-9246-9d9dc099aeb4",
   "metadata": {},
   "outputs": [
    {
     "data": {
      "text/html": [
       "<div>\n",
       "<style scoped>\n",
       "    .dataframe tbody tr th:only-of-type {\n",
       "        vertical-align: middle;\n",
       "    }\n",
       "\n",
       "    .dataframe tbody tr th {\n",
       "        vertical-align: top;\n",
       "    }\n",
       "\n",
       "    .dataframe thead th {\n",
       "        text-align: right;\n",
       "    }\n",
       "</style>\n",
       "<table border=\"1\" class=\"dataframe\">\n",
       "  <thead>\n",
       "    <tr style=\"text-align: right;\">\n",
       "      <th></th>\n",
       "      <th>pclass</th>\n",
       "      <th>survived</th>\n",
       "      <th>sex</th>\n",
       "      <th>age</th>\n",
       "      <th>sibsp</th>\n",
       "      <th>parch</th>\n",
       "      <th>fare</th>\n",
       "      <th>embarked</th>\n",
       "      <th>relatives</th>\n",
       "      <th>not_alone</th>\n",
       "      <th>deck</th>\n",
       "      <th>title</th>\n",
       "      <th>age_class</th>\n",
       "      <th>fare_per_person</th>\n",
       "    </tr>\n",
       "  </thead>\n",
       "  <tbody>\n",
       "    <tr>\n",
       "      <th>0</th>\n",
       "      <td>1</td>\n",
       "      <td>1</td>\n",
       "      <td>1</td>\n",
       "      <td>4</td>\n",
       "      <td>0</td>\n",
       "      <td>0</td>\n",
       "      <td>4</td>\n",
       "      <td>0</td>\n",
       "      <td>0</td>\n",
       "      <td>1</td>\n",
       "      <td>2</td>\n",
       "      <td>2.0</td>\n",
       "      <td>4</td>\n",
       "      <td>4</td>\n",
       "    </tr>\n",
       "    <tr>\n",
       "      <th>1</th>\n",
       "      <td>1</td>\n",
       "      <td>1</td>\n",
       "      <td>0</td>\n",
       "      <td>0</td>\n",
       "      <td>1</td>\n",
       "      <td>2</td>\n",
       "      <td>4</td>\n",
       "      <td>0</td>\n",
       "      <td>3</td>\n",
       "      <td>0</td>\n",
       "      <td>3</td>\n",
       "      <td>4.0</td>\n",
       "      <td>0</td>\n",
       "      <td>1</td>\n",
       "    </tr>\n",
       "    <tr>\n",
       "      <th>2</th>\n",
       "      <td>1</td>\n",
       "      <td>0</td>\n",
       "      <td>1</td>\n",
       "      <td>0</td>\n",
       "      <td>1</td>\n",
       "      <td>2</td>\n",
       "      <td>4</td>\n",
       "      <td>0</td>\n",
       "      <td>3</td>\n",
       "      <td>0</td>\n",
       "      <td>3</td>\n",
       "      <td>2.0</td>\n",
       "      <td>0</td>\n",
       "      <td>1</td>\n",
       "    </tr>\n",
       "    <tr>\n",
       "      <th>3</th>\n",
       "      <td>1</td>\n",
       "      <td>0</td>\n",
       "      <td>0</td>\n",
       "      <td>4</td>\n",
       "      <td>1</td>\n",
       "      <td>2</td>\n",
       "      <td>4</td>\n",
       "      <td>0</td>\n",
       "      <td>3</td>\n",
       "      <td>0</td>\n",
       "      <td>3</td>\n",
       "      <td>1.0</td>\n",
       "      <td>4</td>\n",
       "      <td>1</td>\n",
       "    </tr>\n",
       "    <tr>\n",
       "      <th>4</th>\n",
       "      <td>1</td>\n",
       "      <td>0</td>\n",
       "      <td>1</td>\n",
       "      <td>3</td>\n",
       "      <td>1</td>\n",
       "      <td>2</td>\n",
       "      <td>4</td>\n",
       "      <td>0</td>\n",
       "      <td>3</td>\n",
       "      <td>0</td>\n",
       "      <td>3</td>\n",
       "      <td>3.0</td>\n",
       "      <td>3</td>\n",
       "      <td>1</td>\n",
       "    </tr>\n",
       "    <tr>\n",
       "      <th>5</th>\n",
       "      <td>1</td>\n",
       "      <td>1</td>\n",
       "      <td>0</td>\n",
       "      <td>6</td>\n",
       "      <td>0</td>\n",
       "      <td>0</td>\n",
       "      <td>2</td>\n",
       "      <td>0</td>\n",
       "      <td>0</td>\n",
       "      <td>1</td>\n",
       "      <td>5</td>\n",
       "      <td>1.0</td>\n",
       "      <td>6</td>\n",
       "      <td>2</td>\n",
       "    </tr>\n",
       "    <tr>\n",
       "      <th>6</th>\n",
       "      <td>1</td>\n",
       "      <td>1</td>\n",
       "      <td>1</td>\n",
       "      <td>6</td>\n",
       "      <td>1</td>\n",
       "      <td>0</td>\n",
       "      <td>3</td>\n",
       "      <td>0</td>\n",
       "      <td>1</td>\n",
       "      <td>0</td>\n",
       "      <td>4</td>\n",
       "      <td>2.0</td>\n",
       "      <td>6</td>\n",
       "      <td>1</td>\n",
       "    </tr>\n",
       "    <tr>\n",
       "      <th>7</th>\n",
       "      <td>1</td>\n",
       "      <td>0</td>\n",
       "      <td>0</td>\n",
       "      <td>5</td>\n",
       "      <td>0</td>\n",
       "      <td>0</td>\n",
       "      <td>0</td>\n",
       "      <td>0</td>\n",
       "      <td>0</td>\n",
       "      <td>1</td>\n",
       "      <td>1</td>\n",
       "      <td>1.0</td>\n",
       "      <td>5</td>\n",
       "      <td>0</td>\n",
       "    </tr>\n",
       "    <tr>\n",
       "      <th>8</th>\n",
       "      <td>1</td>\n",
       "      <td>1</td>\n",
       "      <td>1</td>\n",
       "      <td>6</td>\n",
       "      <td>2</td>\n",
       "      <td>0</td>\n",
       "      <td>3</td>\n",
       "      <td>0</td>\n",
       "      <td>2</td>\n",
       "      <td>0</td>\n",
       "      <td>3</td>\n",
       "      <td>3.0</td>\n",
       "      <td>6</td>\n",
       "      <td>1</td>\n",
       "    </tr>\n",
       "    <tr>\n",
       "      <th>9</th>\n",
       "      <td>1</td>\n",
       "      <td>0</td>\n",
       "      <td>0</td>\n",
       "      <td>7</td>\n",
       "      <td>0</td>\n",
       "      <td>0</td>\n",
       "      <td>3</td>\n",
       "      <td>1</td>\n",
       "      <td>0</td>\n",
       "      <td>1</td>\n",
       "      <td>8</td>\n",
       "      <td>1.0</td>\n",
       "      <td>7</td>\n",
       "      <td>3</td>\n",
       "    </tr>\n",
       "  </tbody>\n",
       "</table>\n",
       "</div>"
      ],
      "text/plain": [
       "   pclass  survived  sex  age  sibsp  parch  fare  embarked  relatives  \\\n",
       "0       1         1    1    4      0      0     4         0          0   \n",
       "1       1         1    0    0      1      2     4         0          3   \n",
       "2       1         0    1    0      1      2     4         0          3   \n",
       "3       1         0    0    4      1      2     4         0          3   \n",
       "4       1         0    1    3      1      2     4         0          3   \n",
       "5       1         1    0    6      0      0     2         0          0   \n",
       "6       1         1    1    6      1      0     3         0          1   \n",
       "7       1         0    0    5      0      0     0         0          0   \n",
       "8       1         1    1    6      2      0     3         0          2   \n",
       "9       1         0    0    7      0      0     3         1          0   \n",
       "\n",
       "   not_alone  deck  title  age_class  fare_per_person  \n",
       "0          1     2    2.0          4                4  \n",
       "1          0     3    4.0          0                1  \n",
       "2          0     3    2.0          0                1  \n",
       "3          0     3    1.0          4                1  \n",
       "4          0     3    3.0          3                1  \n",
       "5          1     5    1.0          6                2  \n",
       "6          0     4    2.0          6                1  \n",
       "7          1     1    1.0          5                0  \n",
       "8          0     3    3.0          6                1  \n",
       "9          1     8    1.0          7                3  "
      ]
     },
     "execution_count": 34,
     "metadata": {},
     "output_type": "execute_result"
    }
   ],
   "source": [
    "#Thuộc tính giá vé trên mỗi người\n",
    "for dataset in [df]:\n",
    "    dataset['fare_per_person']= dataset['fare']/(dataset['relatives']+1)\n",
    "    dataset['fare_per_person']= dataset['fare_per_person'].astype(int)\n",
    "df.head(10)"
   ]
  }
 ],
 "metadata": {
  "kernelspec": {
   "display_name": "Python 3 (ipykernel)",
   "language": "python",
   "name": "python3"
  },
  "language_info": {
   "codemirror_mode": {
    "name": "ipython",
    "version": 3
   },
   "file_extension": ".py",
   "mimetype": "text/x-python",
   "name": "python",
   "nbconvert_exporter": "python",
   "pygments_lexer": "ipython3",
   "version": "3.12.2"
  }
 },
 "nbformat": 4,
 "nbformat_minor": 5
}
